{
 "cells": [
  {
   "cell_type": "code",
   "execution_count": 9,
   "metadata": {},
   "outputs": [],
   "source": [
    "from splinter import Browser\n",
    "from bs4 import BeautifulSoup as soup\n",
    "from webdriver_manager.firefox import GeckoDriverManager"
   ]
  },
  {
   "cell_type": "code",
   "execution_count": 13,
   "metadata": {},
   "outputs": [
    {
     "name": "stderr",
     "output_type": "stream",
     "text": [
      "\n",
      "\n",
      "====== WebDriver manager ======\n",
      "Current firefox version is 100.0\n",
      "Get LATEST geckodriver version for 100.0 firefox\n",
      "Driver [C:\\Users\\steph\\.wdm\\drivers\\geckodriver\\win64\\v0.31.0\\geckodriver.exe] found in cache\n"
     ]
    }
   ],
   "source": [
    "# Set up Splinter\n",
    "executable_path = {'executable_path': GeckoDriverManager().install()}\n",
    "browser = Browser('firefox', **executable_path, headless=False)"
   ]
  },
  {
   "cell_type": "code",
   "execution_count": 14,
   "metadata": {},
   "outputs": [],
   "source": [
    "# Visit the Quotes to Scrape site\n",
    "url = 'http://quotes.toscrape.com/'\n",
    "browser.visit(url)"
   ]
  },
  {
   "cell_type": "code",
   "execution_count": 15,
   "metadata": {},
   "outputs": [],
   "source": [
    "# Parse the HTML\n",
    "html = browser.html\n",
    "html_soup = soup(html, 'html.parser')"
   ]
  },
  {
   "cell_type": "code",
   "execution_count": 16,
   "metadata": {},
   "outputs": [
    {
     "data": {
      "text/plain": [
       "'Top Ten tags'"
      ]
     },
     "execution_count": 16,
     "metadata": {},
     "output_type": "execute_result"
    }
   ],
   "source": [
    "# Scrape the Title\n",
    "title = html_soup.find('h2').text\n",
    "title"
   ]
  },
  {
   "cell_type": "code",
   "execution_count": 17,
   "metadata": {},
   "outputs": [
    {
     "name": "stdout",
     "output_type": "stream",
     "text": [
      "love\n",
      "inspirational\n",
      "life\n",
      "humor\n",
      "books\n",
      "reading\n",
      "friendship\n",
      "friends\n",
      "truth\n",
      "simile\n"
     ]
    }
   ],
   "source": [
    "# Scrape the top ten tags\n",
    "tag_box = html_soup.find('div', class_='tags-box')\n",
    "# tag_box\n",
    "tags = tag_box.find_all('a', class_='tag')\n",
    "\n",
    "for tag in tags:\n",
    "    word = tag.text\n",
    "    print(word)"
   ]
  },
  {
   "cell_type": "code",
   "execution_count": 18,
   "metadata": {},
   "outputs": [],
   "source": [
    "url = 'http://quotes.toscrape.com/'\n",
    "browser.visit(url)"
   ]
  },
  {
   "cell_type": "code",
   "execution_count": 19,
   "metadata": {},
   "outputs": [
    {
     "name": "stdout",
     "output_type": "stream",
     "text": [
      "page: 1 ----------\n",
      "“The world as we have created it is a process of our thinking. It cannot be changed without changing our thinking.”\n",
      "page: 1 ----------\n",
      "“It is our choices, Harry, that show what we truly are, far more than our abilities.”\n",
      "page: 1 ----------\n",
      "“There are only two ways to live your life. One is as though nothing is a miracle. The other is as though everything is a miracle.”\n",
      "page: 1 ----------\n",
      "“The person, be it gentleman or lady, who has not pleasure in a good novel, must be intolerably stupid.”\n",
      "page: 1 ----------\n",
      "“Imperfection is beauty, madness is genius and it's better to be absolutely ridiculous than absolutely boring.”\n",
      "page: 1 ----------\n",
      "“Try not to become a man of success. Rather become a man of value.”\n",
      "page: 1 ----------\n",
      "“It is better to be hated for what you are than to be loved for what you are not.”\n",
      "page: 1 ----------\n",
      "“I have not failed. I've just found 10,000 ways that won't work.”\n",
      "page: 1 ----------\n",
      "“A woman is like a tea bag; you never know how strong it is until it's in hot water.”\n",
      "page: 1 ----------\n",
      "“A day without sunshine is like, you know, night.”\n",
      "page: 2 ----------\n",
      "“This life is what you make it. No matter what, you're going to mess up sometimes, it's a universal truth. But the good part is you get to decide how you're going to mess it up. Girls will be your friends - they'll act like it anyway. But just remember, some come, some go. The ones that stay with you through everything - they're your true best friends. Don't let go of them. Also remember, sisters make the best friends in the world. As for lovers, well, they'll come and go too. And baby, I hate to say it, most of them - actually pretty much all of them are going to break your heart, but you can't give up because if you give up, you'll never find your soulmate. You'll never find that half who makes you whole and that goes for everything. Just because you fail once, doesn't mean you're gonna fail at everything. Keep trying, hold on, and always, always, always believe in yourself, because if you don't, then who will, sweetie? So keep your head high, keep your chin up, and most importantly, keep smiling, because life's a beautiful thing and there's so much to smile about.”\n",
      "page: 2 ----------\n",
      "“It takes a great deal of bravery to stand up to our enemies, but just as much to stand up to our friends.”\n",
      "page: 2 ----------\n",
      "“If you can't explain it to a six year old, you don't understand it yourself.”\n",
      "page: 2 ----------\n",
      "“You may not be her first, her last, or her only. She loved before she may love again. But if she loves you now, what else matters? She's not perfect—you aren't either, and the two of you may never be perfect together but if she can make you laugh, cause you to think twice, and admit to being human and making mistakes, hold onto her and give her the most you can. She may not be thinking about you every second of the day, but she will give you a part of her that she knows you can break—her heart. So don't hurt her, don't change her, don't analyze and don't expect more than she can give. Smile when she makes you happy, let her know when she makes you mad, and miss her when she's not there.”\n",
      "page: 2 ----------\n",
      "“I like nonsense, it wakes up the brain cells. Fantasy is a necessary ingredient in living.”\n",
      "page: 2 ----------\n",
      "“I may not have gone where I intended to go, but I think I have ended up where I needed to be.”\n",
      "page: 2 ----------\n",
      "“The opposite of love is not hate, it's indifference. The opposite of art is not ugliness, it's indifference. The opposite of faith is not heresy, it's indifference. And the opposite of life is not death, it's indifference.”\n",
      "page: 2 ----------\n",
      "“It is not a lack of love, but a lack of friendship that makes unhappy marriages.”\n",
      "page: 2 ----------\n",
      "“Good friends, good books, and a sleepy conscience: this is the ideal life.”\n",
      "page: 2 ----------\n",
      "“Life is what happens to us while we are making other plans.”\n",
      "page: 3 ----------\n",
      "“I love you without knowing how, or when, or from where. I love you simply, without problems or pride: I love you in this way because I do not know any other way of loving but this, in which there is no I or you, so intimate that your hand upon my chest is my hand, so intimate that when I fall asleep your eyes close.”\n",
      "page: 3 ----------\n",
      "“For every minute you are angry you lose sixty seconds of happiness.”\n",
      "page: 3 ----------\n",
      "“If you judge people, you have no time to love them.”\n",
      "page: 3 ----------\n",
      "“Anyone who thinks sitting in church can make you a Christian must also think that sitting in a garage can make you a car.”\n",
      "page: 3 ----------\n",
      "“Beauty is in the eye of the beholder and it may be necessary from time to time to give a stupid or misinformed beholder a black eye.”\n",
      "page: 3 ----------\n",
      "“Today you are You, that is truer than true. There is no one alive who is Youer than You.”\n",
      "page: 3 ----------\n",
      "“If you want your children to be intelligent, read them fairy tales. If you want them to be more intelligent, read them more fairy tales.”\n",
      "page: 3 ----------\n",
      "“It is impossible to live without failing at something, unless you live so cautiously that you might as well not have lived at all - in which case, you fail by default.”\n",
      "page: 3 ----------\n",
      "“Logic will get you from A to Z; imagination will get you everywhere.”\n",
      "page: 3 ----------\n",
      "“One good thing about music, when it hits you, you feel no pain.”\n",
      "page: 4 ----------\n",
      "“The more that you read, the more things you will know. The more that you learn, the more places you'll go.”\n",
      "page: 4 ----------\n",
      "“Of course it is happening inside your head, Harry, but why on earth should that mean that it is not real?”\n",
      "page: 4 ----------\n",
      "“The truth is, everyone is going to hurt you. You just got to find the ones worth suffering for.”\n",
      "page: 4 ----------\n",
      "“Not all of us can do great things. But we can do small things with great love.”\n",
      "page: 4 ----------\n",
      "“To the well-organized mind, death is but the next great adventure.”\n",
      "page: 4 ----------\n",
      "“All you need is love. But a little chocolate now and then doesn't hurt.”\n",
      "page: 4 ----------\n",
      "“We read to know we're not alone.”\n",
      "page: 4 ----------\n",
      "“Any fool can know. The point is to understand.”\n",
      "page: 4 ----------\n",
      "“I have always imagined that Paradise will be a kind of library.”\n",
      "page: 4 ----------\n",
      "“It is never too late to be what you might have been.”\n",
      "page: 5 ----------\n",
      "“A reader lives a thousand lives before he dies, said Jojen. The man who never reads lives only one.”\n",
      "page: 5 ----------\n",
      "“You can never get a cup of tea large enough or a book long enough to suit me.”\n",
      "page: 5 ----------\n",
      "“You believe lies so you eventually learn to trust no one but yourself.”\n",
      "page: 5 ----------\n",
      "“If you can make a woman laugh, you can make her do anything.”\n",
      "page: 5 ----------\n",
      "“Life is like riding a bicycle. To keep your balance, you must keep moving.”\n",
      "page: 5 ----------\n",
      "“The real lover is the man who can thrill you by kissing your forehead or smiling into your eyes or just staring into space.”\n",
      "page: 5 ----------\n",
      "“A wise girl kisses but doesn't love, listens but doesn't believe, and leaves before she is left.”\n",
      "page: 5 ----------\n",
      "“Only in the darkness can you see the stars.”\n",
      "page: 5 ----------\n",
      "“It matters not what someone is born, but what they grow to be.”\n",
      "page: 5 ----------\n",
      "“Love does not begin and end the way we seem to think it does. Love is a battle, love is a war; love is a growing up.”\n"
     ]
    }
   ],
   "source": [
    "for x in range(1, 6):\n",
    "   html = browser.html\n",
    "   quote_soup = soup(html, 'html.parser')\n",
    "   quotes = quote_soup.find_all('span', class_='text')\n",
    "   for quote in quotes:\n",
    "      print('page:', x, '----------')\n",
    "      print(quote.text)\n",
    "   browser.links.find_by_partial_text('Next').click()"
   ]
  },
  {
   "cell_type": "code",
   "execution_count": 45,
   "metadata": {},
   "outputs": [],
   "source": [
    "# Import Splinter and BeautifulSoup\n",
    "from splinter import Browser\n",
    "from bs4 import BeautifulSoup as soup\n",
    "from webdriver_manager.chrome import ChromeDriverManager\n",
    "from requests_html import HTMLSession\n",
    "session = HTMLSession()"
   ]
  },
  {
   "cell_type": "code",
   "execution_count": 44,
   "metadata": {},
   "outputs": [
    {
     "name": "stderr",
     "output_type": "stream",
     "text": [
      "\n",
      "\n",
      "====== WebDriver manager ======\n",
      "Current firefox version is 100.0\n",
      "Get LATEST geckodriver version for 100.0 firefox\n",
      "Driver [C:\\Users\\steph\\.wdm\\drivers\\geckodriver\\win64\\v0.31.0\\geckodriver.exe] found in cache\n"
     ]
    }
   ],
   "source": [
    "# Set up Splinter\n",
    "executable_path = {'executable_path': GeckoDriverManager().install()}\n",
    "browser = Browser('firefox', **executable_path, headless=False)"
   ]
  },
  {
   "cell_type": "code",
   "execution_count": 23,
   "metadata": {},
   "outputs": [
    {
     "data": {
      "text/plain": [
       "True"
      ]
     },
     "execution_count": 23,
     "metadata": {},
     "output_type": "execute_result"
    }
   ],
   "source": [
    "# Visit the mars nasa news site\n",
    "url = 'https://redplanetscience.com'\n",
    "browser.visit(url)\n",
    "# Optional delay for loading the page\n",
    "browser.is_element_present_by_css('div.list_text', wait_time=1)"
   ]
  },
  {
   "cell_type": "code",
   "execution_count": 24,
   "metadata": {},
   "outputs": [],
   "source": [
    "html = browser.html\n",
    "news_soup = soup(html, 'html.parser')\n",
    "slide_elem = news_soup.select_one('div.list_text')"
   ]
  },
  {
   "cell_type": "code",
   "execution_count": 25,
   "metadata": {},
   "outputs": [
    {
     "data": {
      "text/plain": [
       "<div class=\"content_title\">NASA Updates Mars 2020 Mission Environmental Review</div>"
      ]
     },
     "execution_count": 25,
     "metadata": {},
     "output_type": "execute_result"
    }
   ],
   "source": [
    "slide_elem.find('div', class_='content_title')"
   ]
  },
  {
   "cell_type": "code",
   "execution_count": 26,
   "metadata": {},
   "outputs": [
    {
     "data": {
      "text/plain": [
       "'NASA Updates Mars 2020 Mission Environmental Review'"
      ]
     },
     "execution_count": 26,
     "metadata": {},
     "output_type": "execute_result"
    }
   ],
   "source": [
    "# Use the parent element to find the first `a` tag and save it as `news_title`\n",
    "news_title = slide_elem.find('div', class_='content_title').get_text()\n",
    "news_title"
   ]
  },
  {
   "cell_type": "code",
   "execution_count": 27,
   "metadata": {},
   "outputs": [
    {
     "data": {
      "text/plain": [
       "'NASA and the Department of Energy have completed a more detailed risk analysis for the Mars 2020 rover launch from Florida.'"
      ]
     },
     "execution_count": 27,
     "metadata": {},
     "output_type": "execute_result"
    }
   ],
   "source": [
    "# Use the parent element to find the paragraph text\n",
    "news_p = slide_elem.find('div', class_='article_teaser_body').get_text()\n",
    "news_p"
   ]
  },
  {
   "cell_type": "code",
   "execution_count": 47,
   "metadata": {},
   "outputs": [],
   "source": [
    "# Visit URL\n",
    "url = 'https://spaceimages-mars.com'\n",
    "response = session.get(url)\n",
    "browser.visit(url)"
   ]
  },
  {
   "cell_type": "code",
   "execution_count": 48,
   "metadata": {},
   "outputs": [],
   "source": [
    "# Parse the resulting html with soup\n",
    "html = browser.html\n",
    "img_soup = soup(response.content, 'html.parser')"
   ]
  },
  {
   "cell_type": "code",
   "execution_count": 51,
   "metadata": {},
   "outputs": [
    {
     "ename": "AttributeError",
     "evalue": "'NoneType' object has no attribute 'get'",
     "output_type": "error",
     "traceback": [
      "\u001b[1;31m---------------------------------------------------------------------------\u001b[0m",
      "\u001b[1;31mAttributeError\u001b[0m                            Traceback (most recent call last)",
      "\u001b[1;32mc:\\DEV\\_Bootcamp\\Personal Repositories\\New folder\\practice.ipynb Cell 18'\u001b[0m in \u001b[0;36m<cell line: 2>\u001b[1;34m()\u001b[0m\n\u001b[0;32m      <a href='vscode-notebook-cell:/c%3A/DEV/_Bootcamp/Personal%20Repositories/New%20folder/practice.ipynb#ch0000017?line=0'>1</a>\u001b[0m \u001b[39m# Find the relative image url\u001b[39;00m\n\u001b[1;32m----> <a href='vscode-notebook-cell:/c%3A/DEV/_Bootcamp/Personal%20Repositories/New%20folder/practice.ipynb#ch0000017?line=1'>2</a>\u001b[0m img_url_rel \u001b[39m=\u001b[39m img_soup\u001b[39m.\u001b[39;49mfind(\u001b[39m'\u001b[39;49m\u001b[39mimg\u001b[39;49m\u001b[39m'\u001b[39;49m, class_\u001b[39m=\u001b[39;49m\u001b[39m'\u001b[39;49m\u001b[39mfancybox-image\u001b[39;49m\u001b[39m'\u001b[39;49m)\u001b[39m.\u001b[39;49mget(\u001b[39m'\u001b[39m\u001b[39msrc\u001b[39m\u001b[39m'\u001b[39m)\n\u001b[0;32m      <a href='vscode-notebook-cell:/c%3A/DEV/_Bootcamp/Personal%20Repositories/New%20folder/practice.ipynb#ch0000017?line=2'>3</a>\u001b[0m img_url_rel\n",
      "\u001b[1;31mAttributeError\u001b[0m: 'NoneType' object has no attribute 'get'"
     ]
    }
   ],
   "source": [
    "# Find the relative image url\n",
    "img_url_rel = img_soup.find('img', class_='fancybox-image').get('src')\n",
    "img_url_rel"
   ]
  },
  {
   "cell_type": "code",
   "execution_count": 31,
   "metadata": {},
   "outputs": [
    {
     "ename": "NameError",
     "evalue": "name 'img_url_rel' is not defined",
     "output_type": "error",
     "traceback": [
      "\u001b[1;31m---------------------------------------------------------------------------\u001b[0m",
      "\u001b[1;31mNameError\u001b[0m                                 Traceback (most recent call last)",
      "\u001b[1;32mc:\\DEV\\_Bootcamp\\Personal Repositories\\New folder\\practice.ipynb Cell 19'\u001b[0m in \u001b[0;36m<cell line: 2>\u001b[1;34m()\u001b[0m\n\u001b[0;32m      <a href='vscode-notebook-cell:/c%3A/DEV/_Bootcamp/Personal%20Repositories/New%20folder/practice.ipynb#ch0000018?line=0'>1</a>\u001b[0m \u001b[39m# Use the base URL to create an absolute URL\u001b[39;00m\n\u001b[1;32m----> <a href='vscode-notebook-cell:/c%3A/DEV/_Bootcamp/Personal%20Repositories/New%20folder/practice.ipynb#ch0000018?line=1'>2</a>\u001b[0m img_url \u001b[39m=\u001b[39m \u001b[39mf\u001b[39m\u001b[39m'\u001b[39m\u001b[39mhttps://spaceimages-mars.com/\u001b[39m\u001b[39m{\u001b[39;00mimg_url_rel\u001b[39m}\u001b[39;00m\u001b[39m'\u001b[39m\n\u001b[0;32m      <a href='vscode-notebook-cell:/c%3A/DEV/_Bootcamp/Personal%20Repositories/New%20folder/practice.ipynb#ch0000018?line=2'>3</a>\u001b[0m img_url\n",
      "\u001b[1;31mNameError\u001b[0m: name 'img_url_rel' is not defined"
     ]
    }
   ],
   "source": [
    "# Use the base URL to create an absolute URL\n",
    "img_url = f'https://spaceimages-mars.com/{img_url_rel}'\n",
    "img_url"
   ]
  },
  {
   "cell_type": "code",
   "execution_count": 53,
   "metadata": {},
   "outputs": [
    {
     "data": {
      "text/html": [
       "<div>\n",
       "<style scoped>\n",
       "    .dataframe tbody tr th:only-of-type {\n",
       "        vertical-align: middle;\n",
       "    }\n",
       "\n",
       "    .dataframe tbody tr th {\n",
       "        vertical-align: top;\n",
       "    }\n",
       "\n",
       "    .dataframe thead th {\n",
       "        text-align: right;\n",
       "    }\n",
       "</style>\n",
       "<table border=\"1\" class=\"dataframe\">\n",
       "  <thead>\n",
       "    <tr style=\"text-align: right;\">\n",
       "      <th></th>\n",
       "      <th>Mars</th>\n",
       "      <th>Earth</th>\n",
       "    </tr>\n",
       "    <tr>\n",
       "      <th>description</th>\n",
       "      <th></th>\n",
       "      <th></th>\n",
       "    </tr>\n",
       "  </thead>\n",
       "  <tbody>\n",
       "    <tr>\n",
       "      <th>Mars - Earth Comparison</th>\n",
       "      <td>Mars</td>\n",
       "      <td>Earth</td>\n",
       "    </tr>\n",
       "    <tr>\n",
       "      <th>Diameter:</th>\n",
       "      <td>6,779 km</td>\n",
       "      <td>12,742 km</td>\n",
       "    </tr>\n",
       "    <tr>\n",
       "      <th>Mass:</th>\n",
       "      <td>6.39 × 10^23 kg</td>\n",
       "      <td>5.97 × 10^24 kg</td>\n",
       "    </tr>\n",
       "    <tr>\n",
       "      <th>Moons:</th>\n",
       "      <td>2</td>\n",
       "      <td>1</td>\n",
       "    </tr>\n",
       "    <tr>\n",
       "      <th>Distance from Sun:</th>\n",
       "      <td>227,943,824 km</td>\n",
       "      <td>149,598,262 km</td>\n",
       "    </tr>\n",
       "    <tr>\n",
       "      <th>Length of Year:</th>\n",
       "      <td>687 Earth days</td>\n",
       "      <td>365.24 days</td>\n",
       "    </tr>\n",
       "    <tr>\n",
       "      <th>Temperature:</th>\n",
       "      <td>-87 to -5 °C</td>\n",
       "      <td>-88 to 58°C</td>\n",
       "    </tr>\n",
       "  </tbody>\n",
       "</table>\n",
       "</div>"
      ],
      "text/plain": [
       "                                    Mars            Earth\n",
       "description                                              \n",
       "Mars - Earth Comparison             Mars            Earth\n",
       "Diameter:                       6,779 km        12,742 km\n",
       "Mass:                    6.39 × 10^23 kg  5.97 × 10^24 kg\n",
       "Moons:                                 2                1\n",
       "Distance from Sun:        227,943,824 km   149,598,262 km\n",
       "Length of Year:           687 Earth days      365.24 days\n",
       "Temperature:                -87 to -5 °C      -88 to 58°C"
      ]
     },
     "execution_count": 53,
     "metadata": {},
     "output_type": "execute_result"
    }
   ],
   "source": [
    "import pandas as pd\n",
    "\n",
    "df = pd.read_html('https://galaxyfacts-mars.com')[0]\n",
    "df.columns=['description', 'Mars', 'Earth']\n",
    "df.set_index('description', inplace=True)\n",
    "df"
   ]
  },
  {
   "cell_type": "code",
   "execution_count": 54,
   "metadata": {},
   "outputs": [
    {
     "data": {
      "text/plain": [
       "<bound method BaseWebDriver.quit of <splinter.driver.webdriver.firefox.WebDriver object at 0x00000215A4707310>>"
      ]
     },
     "execution_count": 54,
     "metadata": {},
     "output_type": "execute_result"
    }
   ],
   "source": [
    "browser.quit"
   ]
  },
  {
   "cell_type": "code",
   "execution_count": 27,
   "metadata": {},
   "outputs": [
    {
     "name": "stderr",
     "output_type": "stream",
     "text": [
      "====== WebDriver manager ======\n",
      "Current edge version is 101.0.1210\n",
      "Get LATEST edgedriver version for 101.0.1210 Edge\n",
      "There is no [win64] edgedriver for browser 101.0.1210 in cache\n",
      "Trying to download new driver from https://msedgedriver.azureedge.net/101.0.1210.39/edgedriver_win64.zip\n",
      "Driver has been saved in cache [C:\\Users\\steph\\.wdm\\drivers\\edgedriver\\win64\\101.0.1210.39]\n"
     ]
    },
    {
     "data": {
      "text/plain": [
       "'<table border=\"1\" class=\"dataframe\">\\n  <thead>\\n    <tr style=\"text-align: right;\">\\n      <th></th>\\n      <th>Mars</th>\\n      <th>Earth</th>\\n    </tr>\\n    <tr>\\n      <th>Description</th>\\n      <th></th>\\n      <th></th>\\n    </tr>\\n  </thead>\\n  <tbody>\\n    <tr>\\n      <th>Mars - Earth Comparison</th>\\n      <td>Mars</td>\\n      <td>Earth</td>\\n    </tr>\\n    <tr>\\n      <th>Diameter:</th>\\n      <td>6,779 km</td>\\n      <td>12,742 km</td>\\n    </tr>\\n    <tr>\\n      <th>Mass:</th>\\n      <td>6.39 × 10^23 kg</td>\\n      <td>5.97 × 10^24 kg</td>\\n    </tr>\\n    <tr>\\n      <th>Moons:</th>\\n      <td>2</td>\\n      <td>1</td>\\n    </tr>\\n    <tr>\\n      <th>Distance from Sun:</th>\\n      <td>227,943,824 km</td>\\n      <td>149,598,262 km</td>\\n    </tr>\\n    <tr>\\n      <th>Length of Year:</th>\\n      <td>687 Earth days</td>\\n      <td>365.24 days</td>\\n    </tr>\\n    <tr>\\n      <th>Temperature:</th>\\n      <td>-87 to -5 °C</td>\\n      <td>-88 to 58°C</td>\\n    </tr>\\n  </tbody>\\n</table>'"
      ]
     },
     "execution_count": 27,
     "metadata": {},
     "output_type": "execute_result"
    }
   ],
   "source": [
    "# Import Splinter, BeautifulSoup, and Pandas\n",
    "from splinter import Browser\n",
    "from bs4 import BeautifulSoup as soup\n",
    "import pandas as pd\n",
    "# from webdriver_manager.chrome import ChromeDriverManager\n",
    "from webdriver_manager.firefox import GeckoDriverManager\n",
    "from webdriver_manager.microsoft import EdgeChromiumDriverManager\n",
    "\n",
    "# Set the executable path and initialize Splinter\n",
    "# executable_path = {'executable_path': ChromeDriverManager().install()}\n",
    "# browser = Browser('chrome', **executable_path, headless=False)\n",
    "\n",
    "# Set up Splinter\n",
    "executable_path = {'executable_path': EdgeChromiumDriverManager().install()}\n",
    "browser = Browser('edge', **executable_path, headless=False)\n",
    "\n",
    "### Visit the NASA Mars News Site\n",
    "# Visit the mars nasa news site\n",
    "url = 'https://redplanetscience.com/'\n",
    "browser.visit(url)\n",
    "\n",
    "# Optional delay for loading the page\n",
    "browser.is_element_present_by_css('div.list_text', wait_time=1)\n",
    "# Convert the browser html to a soup object and then quit the browser\n",
    "html = browser.html\n",
    "news_soup = soup(html, 'html.parser')\n",
    "\n",
    "slide_elem = news_soup.select_one('div.list_text')\n",
    "slide_elem.find('div', class_='content_title')\n",
    "# Use the parent element to find the first a tag and save it as `news_title`\n",
    "news_title = slide_elem.find('div', class_='content_title').get_text()\n",
    "news_title\n",
    "# Use the parent element to find the paragraph text\n",
    "news_p = slide_elem.find('div', class_='article_teaser_body').get_text()\n",
    "news_p\n",
    "### JPL Space Images Featured Image\n",
    "# Visit URL\n",
    "url = 'https://spaceimages-mars.com'\n",
    "browser.visit(url)\n",
    "# Find and click the full image button\n",
    "full_image_elem = browser.find_by_tag('button')[1]\n",
    "full_image_elem.click()\n",
    "# Parse the resulting html with soup\n",
    "html = browser.html\n",
    "img_soup = soup(html, 'html.parser')\n",
    "img_soup\n",
    "# find the relative image url\n",
    "img_url_rel = img_soup.find('img', class_='fancybox-image').get('src')\n",
    "img_url_rel\n",
    "# Use the base url to create an absolute url\n",
    "img_url = f'https://spaceimages-mars.com/{img_url_rel}'\n",
    "img_url\n",
    "### Mars Facts\n",
    "df = pd.read_html('https://galaxyfacts-mars.com')[0]\n",
    "df.head()\n",
    "df.columns=['Description', 'Mars', 'Earth']\n",
    "df.set_index('Description', inplace=True)\n",
    "df\n",
    "df.to_html()"
   ]
  },
  {
   "cell_type": "code",
   "execution_count": 37,
   "metadata": {},
   "outputs": [],
   "source": [
    "# D1: Scrape High-Resolution Mars’ Hemisphere Images and Titles\n",
    "### Hemispheres\n",
    "# 1. Use browser to visit the URL \n",
    "url = 'https://astrogeology.usgs.gov/search/results?q=hemisphere+enhanced&k1=target&v1=Mars/'\n",
    "\n",
    "browser.visit(url)\n"
   ]
  },
  {
   "cell_type": "code",
   "execution_count": 38,
   "metadata": {},
   "outputs": [],
   "source": [
    "# 2. Create a list to hold the images and titles.\n",
    "hemisphere_image_urls = []\n",
    "\n"
   ]
  },
  {
   "cell_type": "code",
   "execution_count": 49,
   "metadata": {},
   "outputs": [
    {
     "ename": "MaxRetryError",
     "evalue": "HTTPConnectionPool(host='localhost', port=62314): Max retries exceeded with url: /session/f40dd0c3593011005ace745ab9bf8db9/elements (Caused by NewConnectionError('<urllib3.connection.HTTPConnection object at 0x000001CD822BA9E0>: Failed to establish a new connection: [WinError 10061] No connection could be made because the target machine actively refused it'))",
     "output_type": "error",
     "traceback": [
      "\u001b[1;31m---------------------------------------------------------------------------\u001b[0m",
      "\u001b[1;31mConnectionRefusedError\u001b[0m                    Traceback (most recent call last)",
      "File \u001b[1;32m~\\AppData\\Local\\Programs\\Python\\Python310\\lib\\site-packages\\urllib3\\connection.py:174\u001b[0m, in \u001b[0;36mHTTPConnection._new_conn\u001b[1;34m(self)\u001b[0m\n\u001b[0;32m    <a href='file:///c%3A/Users/steph/AppData/Local/Programs/Python/Python310/lib/site-packages/urllib3/connection.py?line=172'>173</a>\u001b[0m \u001b[39mtry\u001b[39;00m:\n\u001b[1;32m--> <a href='file:///c%3A/Users/steph/AppData/Local/Programs/Python/Python310/lib/site-packages/urllib3/connection.py?line=173'>174</a>\u001b[0m     conn \u001b[39m=\u001b[39m connection\u001b[39m.\u001b[39mcreate_connection(\n\u001b[0;32m    <a href='file:///c%3A/Users/steph/AppData/Local/Programs/Python/Python310/lib/site-packages/urllib3/connection.py?line=174'>175</a>\u001b[0m         (\u001b[39mself\u001b[39m\u001b[39m.\u001b[39m_dns_host, \u001b[39mself\u001b[39m\u001b[39m.\u001b[39mport), \u001b[39mself\u001b[39m\u001b[39m.\u001b[39mtimeout, \u001b[39m*\u001b[39m\u001b[39m*\u001b[39mextra_kw\n\u001b[0;32m    <a href='file:///c%3A/Users/steph/AppData/Local/Programs/Python/Python310/lib/site-packages/urllib3/connection.py?line=175'>176</a>\u001b[0m     )\n\u001b[0;32m    <a href='file:///c%3A/Users/steph/AppData/Local/Programs/Python/Python310/lib/site-packages/urllib3/connection.py?line=177'>178</a>\u001b[0m \u001b[39mexcept\u001b[39;00m SocketTimeout:\n",
      "File \u001b[1;32m~\\AppData\\Local\\Programs\\Python\\Python310\\lib\\site-packages\\urllib3\\util\\connection.py:96\u001b[0m, in \u001b[0;36mcreate_connection\u001b[1;34m(address, timeout, source_address, socket_options)\u001b[0m\n\u001b[0;32m     <a href='file:///c%3A/Users/steph/AppData/Local/Programs/Python/Python310/lib/site-packages/urllib3/util/connection.py?line=94'>95</a>\u001b[0m \u001b[39mif\u001b[39;00m err \u001b[39mis\u001b[39;00m \u001b[39mnot\u001b[39;00m \u001b[39mNone\u001b[39;00m:\n\u001b[1;32m---> <a href='file:///c%3A/Users/steph/AppData/Local/Programs/Python/Python310/lib/site-packages/urllib3/util/connection.py?line=95'>96</a>\u001b[0m     \u001b[39mraise\u001b[39;00m err\n\u001b[0;32m     <a href='file:///c%3A/Users/steph/AppData/Local/Programs/Python/Python310/lib/site-packages/urllib3/util/connection.py?line=97'>98</a>\u001b[0m \u001b[39mraise\u001b[39;00m socket\u001b[39m.\u001b[39merror(\u001b[39m\"\u001b[39m\u001b[39mgetaddrinfo returns an empty list\u001b[39m\u001b[39m\"\u001b[39m)\n",
      "File \u001b[1;32m~\\AppData\\Local\\Programs\\Python\\Python310\\lib\\site-packages\\urllib3\\util\\connection.py:86\u001b[0m, in \u001b[0;36mcreate_connection\u001b[1;34m(address, timeout, source_address, socket_options)\u001b[0m\n\u001b[0;32m     <a href='file:///c%3A/Users/steph/AppData/Local/Programs/Python/Python310/lib/site-packages/urllib3/util/connection.py?line=84'>85</a>\u001b[0m     sock\u001b[39m.\u001b[39mbind(source_address)\n\u001b[1;32m---> <a href='file:///c%3A/Users/steph/AppData/Local/Programs/Python/Python310/lib/site-packages/urllib3/util/connection.py?line=85'>86</a>\u001b[0m sock\u001b[39m.\u001b[39;49mconnect(sa)\n\u001b[0;32m     <a href='file:///c%3A/Users/steph/AppData/Local/Programs/Python/Python310/lib/site-packages/urllib3/util/connection.py?line=86'>87</a>\u001b[0m \u001b[39mreturn\u001b[39;00m sock\n",
      "\u001b[1;31mConnectionRefusedError\u001b[0m: [WinError 10061] No connection could be made because the target machine actively refused it",
      "\nDuring handling of the above exception, another exception occurred:\n",
      "\u001b[1;31mNewConnectionError\u001b[0m                        Traceback (most recent call last)",
      "File \u001b[1;32m~\\AppData\\Local\\Programs\\Python\\Python310\\lib\\site-packages\\urllib3\\connectionpool.py:699\u001b[0m, in \u001b[0;36mHTTPConnectionPool.urlopen\u001b[1;34m(self, method, url, body, headers, retries, redirect, assert_same_host, timeout, pool_timeout, release_conn, chunked, body_pos, **response_kw)\u001b[0m\n\u001b[0;32m    <a href='file:///c%3A/Users/steph/AppData/Local/Programs/Python/Python310/lib/site-packages/urllib3/connectionpool.py?line=697'>698</a>\u001b[0m \u001b[39m# Make the request on the httplib connection object.\u001b[39;00m\n\u001b[1;32m--> <a href='file:///c%3A/Users/steph/AppData/Local/Programs/Python/Python310/lib/site-packages/urllib3/connectionpool.py?line=698'>699</a>\u001b[0m httplib_response \u001b[39m=\u001b[39m \u001b[39mself\u001b[39;49m\u001b[39m.\u001b[39;49m_make_request(\n\u001b[0;32m    <a href='file:///c%3A/Users/steph/AppData/Local/Programs/Python/Python310/lib/site-packages/urllib3/connectionpool.py?line=699'>700</a>\u001b[0m     conn,\n\u001b[0;32m    <a href='file:///c%3A/Users/steph/AppData/Local/Programs/Python/Python310/lib/site-packages/urllib3/connectionpool.py?line=700'>701</a>\u001b[0m     method,\n\u001b[0;32m    <a href='file:///c%3A/Users/steph/AppData/Local/Programs/Python/Python310/lib/site-packages/urllib3/connectionpool.py?line=701'>702</a>\u001b[0m     url,\n\u001b[0;32m    <a href='file:///c%3A/Users/steph/AppData/Local/Programs/Python/Python310/lib/site-packages/urllib3/connectionpool.py?line=702'>703</a>\u001b[0m     timeout\u001b[39m=\u001b[39;49mtimeout_obj,\n\u001b[0;32m    <a href='file:///c%3A/Users/steph/AppData/Local/Programs/Python/Python310/lib/site-packages/urllib3/connectionpool.py?line=703'>704</a>\u001b[0m     body\u001b[39m=\u001b[39;49mbody,\n\u001b[0;32m    <a href='file:///c%3A/Users/steph/AppData/Local/Programs/Python/Python310/lib/site-packages/urllib3/connectionpool.py?line=704'>705</a>\u001b[0m     headers\u001b[39m=\u001b[39;49mheaders,\n\u001b[0;32m    <a href='file:///c%3A/Users/steph/AppData/Local/Programs/Python/Python310/lib/site-packages/urllib3/connectionpool.py?line=705'>706</a>\u001b[0m     chunked\u001b[39m=\u001b[39;49mchunked,\n\u001b[0;32m    <a href='file:///c%3A/Users/steph/AppData/Local/Programs/Python/Python310/lib/site-packages/urllib3/connectionpool.py?line=706'>707</a>\u001b[0m )\n\u001b[0;32m    <a href='file:///c%3A/Users/steph/AppData/Local/Programs/Python/Python310/lib/site-packages/urllib3/connectionpool.py?line=708'>709</a>\u001b[0m \u001b[39m# If we're going to release the connection in ``finally:``, then\u001b[39;00m\n\u001b[0;32m    <a href='file:///c%3A/Users/steph/AppData/Local/Programs/Python/Python310/lib/site-packages/urllib3/connectionpool.py?line=709'>710</a>\u001b[0m \u001b[39m# the response doesn't need to know about the connection. Otherwise\u001b[39;00m\n\u001b[0;32m    <a href='file:///c%3A/Users/steph/AppData/Local/Programs/Python/Python310/lib/site-packages/urllib3/connectionpool.py?line=710'>711</a>\u001b[0m \u001b[39m# it will also try to release it and we'll have a double-release\u001b[39;00m\n\u001b[0;32m    <a href='file:///c%3A/Users/steph/AppData/Local/Programs/Python/Python310/lib/site-packages/urllib3/connectionpool.py?line=711'>712</a>\u001b[0m \u001b[39m# mess.\u001b[39;00m\n",
      "File \u001b[1;32m~\\AppData\\Local\\Programs\\Python\\Python310\\lib\\site-packages\\urllib3\\connectionpool.py:394\u001b[0m, in \u001b[0;36mHTTPConnectionPool._make_request\u001b[1;34m(self, conn, method, url, timeout, chunked, **httplib_request_kw)\u001b[0m\n\u001b[0;32m    <a href='file:///c%3A/Users/steph/AppData/Local/Programs/Python/Python310/lib/site-packages/urllib3/connectionpool.py?line=392'>393</a>\u001b[0m     \u001b[39melse\u001b[39;00m:\n\u001b[1;32m--> <a href='file:///c%3A/Users/steph/AppData/Local/Programs/Python/Python310/lib/site-packages/urllib3/connectionpool.py?line=393'>394</a>\u001b[0m         conn\u001b[39m.\u001b[39mrequest(method, url, \u001b[39m*\u001b[39m\u001b[39m*\u001b[39mhttplib_request_kw)\n\u001b[0;32m    <a href='file:///c%3A/Users/steph/AppData/Local/Programs/Python/Python310/lib/site-packages/urllib3/connectionpool.py?line=395'>396</a>\u001b[0m \u001b[39m# We are swallowing BrokenPipeError (errno.EPIPE) since the server is\u001b[39;00m\n\u001b[0;32m    <a href='file:///c%3A/Users/steph/AppData/Local/Programs/Python/Python310/lib/site-packages/urllib3/connectionpool.py?line=396'>397</a>\u001b[0m \u001b[39m# legitimately able to close the connection after sending a valid response.\u001b[39;00m\n\u001b[0;32m    <a href='file:///c%3A/Users/steph/AppData/Local/Programs/Python/Python310/lib/site-packages/urllib3/connectionpool.py?line=397'>398</a>\u001b[0m \u001b[39m# With this behaviour, the received response is still readable.\u001b[39;00m\n",
      "File \u001b[1;32m~\\AppData\\Local\\Programs\\Python\\Python310\\lib\\site-packages\\urllib3\\connection.py:239\u001b[0m, in \u001b[0;36mHTTPConnection.request\u001b[1;34m(self, method, url, body, headers)\u001b[0m\n\u001b[0;32m    <a href='file:///c%3A/Users/steph/AppData/Local/Programs/Python/Python310/lib/site-packages/urllib3/connection.py?line=237'>238</a>\u001b[0m     headers[\u001b[39m\"\u001b[39m\u001b[39mUser-Agent\u001b[39m\u001b[39m\"\u001b[39m] \u001b[39m=\u001b[39m _get_default_user_agent()\n\u001b[1;32m--> <a href='file:///c%3A/Users/steph/AppData/Local/Programs/Python/Python310/lib/site-packages/urllib3/connection.py?line=238'>239</a>\u001b[0m \u001b[39msuper\u001b[39;49m(HTTPConnection, \u001b[39mself\u001b[39;49m)\u001b[39m.\u001b[39;49mrequest(method, url, body\u001b[39m=\u001b[39;49mbody, headers\u001b[39m=\u001b[39;49mheaders)\n",
      "File \u001b[1;32m~\\AppData\\Local\\Programs\\Python\\Python310\\lib\\http\\client.py:1282\u001b[0m, in \u001b[0;36mHTTPConnection.request\u001b[1;34m(self, method, url, body, headers, encode_chunked)\u001b[0m\n\u001b[0;32m   <a href='file:///c%3A/Users/steph/AppData/Local/Programs/Python/Python310/lib/http/client.py?line=1280'>1281</a>\u001b[0m \u001b[39m\"\"\"Send a complete request to the server.\"\"\"\u001b[39;00m\n\u001b[1;32m-> <a href='file:///c%3A/Users/steph/AppData/Local/Programs/Python/Python310/lib/http/client.py?line=1281'>1282</a>\u001b[0m \u001b[39mself\u001b[39;49m\u001b[39m.\u001b[39;49m_send_request(method, url, body, headers, encode_chunked)\n",
      "File \u001b[1;32m~\\AppData\\Local\\Programs\\Python\\Python310\\lib\\http\\client.py:1328\u001b[0m, in \u001b[0;36mHTTPConnection._send_request\u001b[1;34m(self, method, url, body, headers, encode_chunked)\u001b[0m\n\u001b[0;32m   <a href='file:///c%3A/Users/steph/AppData/Local/Programs/Python/Python310/lib/http/client.py?line=1326'>1327</a>\u001b[0m     body \u001b[39m=\u001b[39m _encode(body, \u001b[39m'\u001b[39m\u001b[39mbody\u001b[39m\u001b[39m'\u001b[39m)\n\u001b[1;32m-> <a href='file:///c%3A/Users/steph/AppData/Local/Programs/Python/Python310/lib/http/client.py?line=1327'>1328</a>\u001b[0m \u001b[39mself\u001b[39;49m\u001b[39m.\u001b[39;49mendheaders(body, encode_chunked\u001b[39m=\u001b[39;49mencode_chunked)\n",
      "File \u001b[1;32m~\\AppData\\Local\\Programs\\Python\\Python310\\lib\\http\\client.py:1277\u001b[0m, in \u001b[0;36mHTTPConnection.endheaders\u001b[1;34m(self, message_body, encode_chunked)\u001b[0m\n\u001b[0;32m   <a href='file:///c%3A/Users/steph/AppData/Local/Programs/Python/Python310/lib/http/client.py?line=1275'>1276</a>\u001b[0m     \u001b[39mraise\u001b[39;00m CannotSendHeader()\n\u001b[1;32m-> <a href='file:///c%3A/Users/steph/AppData/Local/Programs/Python/Python310/lib/http/client.py?line=1276'>1277</a>\u001b[0m \u001b[39mself\u001b[39;49m\u001b[39m.\u001b[39;49m_send_output(message_body, encode_chunked\u001b[39m=\u001b[39;49mencode_chunked)\n",
      "File \u001b[1;32m~\\AppData\\Local\\Programs\\Python\\Python310\\lib\\http\\client.py:1037\u001b[0m, in \u001b[0;36mHTTPConnection._send_output\u001b[1;34m(self, message_body, encode_chunked)\u001b[0m\n\u001b[0;32m   <a href='file:///c%3A/Users/steph/AppData/Local/Programs/Python/Python310/lib/http/client.py?line=1035'>1036</a>\u001b[0m \u001b[39mdel\u001b[39;00m \u001b[39mself\u001b[39m\u001b[39m.\u001b[39m_buffer[:]\n\u001b[1;32m-> <a href='file:///c%3A/Users/steph/AppData/Local/Programs/Python/Python310/lib/http/client.py?line=1036'>1037</a>\u001b[0m \u001b[39mself\u001b[39;49m\u001b[39m.\u001b[39;49msend(msg)\n\u001b[0;32m   <a href='file:///c%3A/Users/steph/AppData/Local/Programs/Python/Python310/lib/http/client.py?line=1038'>1039</a>\u001b[0m \u001b[39mif\u001b[39;00m message_body \u001b[39mis\u001b[39;00m \u001b[39mnot\u001b[39;00m \u001b[39mNone\u001b[39;00m:\n\u001b[0;32m   <a href='file:///c%3A/Users/steph/AppData/Local/Programs/Python/Python310/lib/http/client.py?line=1039'>1040</a>\u001b[0m \n\u001b[0;32m   <a href='file:///c%3A/Users/steph/AppData/Local/Programs/Python/Python310/lib/http/client.py?line=1040'>1041</a>\u001b[0m     \u001b[39m# create a consistent interface to message_body\u001b[39;00m\n",
      "File \u001b[1;32m~\\AppData\\Local\\Programs\\Python\\Python310\\lib\\http\\client.py:975\u001b[0m, in \u001b[0;36mHTTPConnection.send\u001b[1;34m(self, data)\u001b[0m\n\u001b[0;32m    <a href='file:///c%3A/Users/steph/AppData/Local/Programs/Python/Python310/lib/http/client.py?line=973'>974</a>\u001b[0m \u001b[39mif\u001b[39;00m \u001b[39mself\u001b[39m\u001b[39m.\u001b[39mauto_open:\n\u001b[1;32m--> <a href='file:///c%3A/Users/steph/AppData/Local/Programs/Python/Python310/lib/http/client.py?line=974'>975</a>\u001b[0m     \u001b[39mself\u001b[39;49m\u001b[39m.\u001b[39;49mconnect()\n\u001b[0;32m    <a href='file:///c%3A/Users/steph/AppData/Local/Programs/Python/Python310/lib/http/client.py?line=975'>976</a>\u001b[0m \u001b[39melse\u001b[39;00m:\n",
      "File \u001b[1;32m~\\AppData\\Local\\Programs\\Python\\Python310\\lib\\site-packages\\urllib3\\connection.py:205\u001b[0m, in \u001b[0;36mHTTPConnection.connect\u001b[1;34m(self)\u001b[0m\n\u001b[0;32m    <a href='file:///c%3A/Users/steph/AppData/Local/Programs/Python/Python310/lib/site-packages/urllib3/connection.py?line=203'>204</a>\u001b[0m \u001b[39mdef\u001b[39;00m \u001b[39mconnect\u001b[39m(\u001b[39mself\u001b[39m):\n\u001b[1;32m--> <a href='file:///c%3A/Users/steph/AppData/Local/Programs/Python/Python310/lib/site-packages/urllib3/connection.py?line=204'>205</a>\u001b[0m     conn \u001b[39m=\u001b[39m \u001b[39mself\u001b[39;49m\u001b[39m.\u001b[39;49m_new_conn()\n\u001b[0;32m    <a href='file:///c%3A/Users/steph/AppData/Local/Programs/Python/Python310/lib/site-packages/urllib3/connection.py?line=205'>206</a>\u001b[0m     \u001b[39mself\u001b[39m\u001b[39m.\u001b[39m_prepare_conn(conn)\n",
      "File \u001b[1;32m~\\AppData\\Local\\Programs\\Python\\Python310\\lib\\site-packages\\urllib3\\connection.py:186\u001b[0m, in \u001b[0;36mHTTPConnection._new_conn\u001b[1;34m(self)\u001b[0m\n\u001b[0;32m    <a href='file:///c%3A/Users/steph/AppData/Local/Programs/Python/Python310/lib/site-packages/urllib3/connection.py?line=184'>185</a>\u001b[0m \u001b[39mexcept\u001b[39;00m SocketError \u001b[39mas\u001b[39;00m e:\n\u001b[1;32m--> <a href='file:///c%3A/Users/steph/AppData/Local/Programs/Python/Python310/lib/site-packages/urllib3/connection.py?line=185'>186</a>\u001b[0m     \u001b[39mraise\u001b[39;00m NewConnectionError(\n\u001b[0;32m    <a href='file:///c%3A/Users/steph/AppData/Local/Programs/Python/Python310/lib/site-packages/urllib3/connection.py?line=186'>187</a>\u001b[0m         \u001b[39mself\u001b[39m, \u001b[39m\"\u001b[39m\u001b[39mFailed to establish a new connection: \u001b[39m\u001b[39m%s\u001b[39;00m\u001b[39m\"\u001b[39m \u001b[39m%\u001b[39m e\n\u001b[0;32m    <a href='file:///c%3A/Users/steph/AppData/Local/Programs/Python/Python310/lib/site-packages/urllib3/connection.py?line=187'>188</a>\u001b[0m     )\n\u001b[0;32m    <a href='file:///c%3A/Users/steph/AppData/Local/Programs/Python/Python310/lib/site-packages/urllib3/connection.py?line=189'>190</a>\u001b[0m \u001b[39mreturn\u001b[39;00m conn\n",
      "\u001b[1;31mNewConnectionError\u001b[0m: <urllib3.connection.HTTPConnection object at 0x000001CD822BA9E0>: Failed to establish a new connection: [WinError 10061] No connection could be made because the target machine actively refused it",
      "\nDuring handling of the above exception, another exception occurred:\n",
      "\u001b[1;31mMaxRetryError\u001b[0m                             Traceback (most recent call last)",
      "\u001b[1;32mc:\\DEV\\_Bootcamp\\Personal Repositories\\Mission-To-Mars\\Mission_to_Mars_Challenge.ipynb Cell 25'\u001b[0m in \u001b[0;36m<cell line: 2>\u001b[1;34m()\u001b[0m\n\u001b[0;32m      <a href='vscode-notebook-cell:/c%3A/DEV/_Bootcamp/Personal%20Repositories/Mission-To-Mars/Mission_to_Mars_Challenge.ipynb#ch0000026?line=0'>1</a>\u001b[0m \u001b[39m# 3. Write code to retrieve the image urls and titles for each hemisphere.\u001b[39;00m\n\u001b[0;32m      <a href='vscode-notebook-cell:/c%3A/DEV/_Bootcamp/Personal%20Repositories/Mission-To-Mars/Mission_to_Mars_Challenge.ipynb#ch0000026?line=1'>2</a>\u001b[0m \u001b[39mfor\u001b[39;00m x \u001b[39min\u001b[39;00m \u001b[39mrange\u001b[39m(\u001b[39m0\u001b[39m,\u001b[39m4\u001b[39m):\n\u001b[1;32m----> <a href='vscode-notebook-cell:/c%3A/DEV/_Bootcamp/Personal%20Repositories/Mission-To-Mars/Mission_to_Mars_Challenge.ipynb#ch0000026?line=2'>3</a>\u001b[0m     img_link_loc \u001b[39m=\u001b[39m browser\u001b[39m.\u001b[39;49mfind_by_tag(\u001b[39m'\u001b[39;49m\u001b[39mh3\u001b[39;49m\u001b[39m'\u001b[39;49m)[x]\n\u001b[0;32m      <a href='vscode-notebook-cell:/c%3A/DEV/_Bootcamp/Personal%20Repositories/Mission-To-Mars/Mission_to_Mars_Challenge.ipynb#ch0000026?line=3'>4</a>\u001b[0m     img_link_loc\u001b[39m.\u001b[39mclick()\n\u001b[0;32m      <a href='vscode-notebook-cell:/c%3A/DEV/_Bootcamp/Personal%20Repositories/Mission-To-Mars/Mission_to_Mars_Challenge.ipynb#ch0000026?line=5'>6</a>\u001b[0m     \u001b[39m# Parse the resulting html with soup\u001b[39;00m\n",
      "File \u001b[1;32m~\\AppData\\Local\\Programs\\Python\\Python310\\lib\\site-packages\\splinter\\driver\\webdriver\\__init__.py:560\u001b[0m, in \u001b[0;36mBaseWebDriver.find_by_tag\u001b[1;34m(self, tag, wait_time)\u001b[0m\n\u001b[0;32m    <a href='file:///c%3A/Users/steph/AppData/Local/Programs/Python/Python310/lib/site-packages/splinter/driver/webdriver/__init__.py?line=558'>559</a>\u001b[0m \u001b[39mdef\u001b[39;00m \u001b[39mfind_by_tag\u001b[39m(\u001b[39mself\u001b[39m, tag, wait_time\u001b[39m=\u001b[39m\u001b[39mNone\u001b[39;00m):\n\u001b[1;32m--> <a href='file:///c%3A/Users/steph/AppData/Local/Programs/Python/Python310/lib/site-packages/splinter/driver/webdriver/__init__.py?line=559'>560</a>\u001b[0m     \u001b[39mreturn\u001b[39;00m \u001b[39mself\u001b[39;49m\u001b[39m.\u001b[39;49mfind_by(\n\u001b[0;32m    <a href='file:///c%3A/Users/steph/AppData/Local/Programs/Python/Python310/lib/site-packages/splinter/driver/webdriver/__init__.py?line=560'>561</a>\u001b[0m         \u001b[39mself\u001b[39;49m\u001b[39m.\u001b[39;49mdriver\u001b[39m.\u001b[39;49mfind_elements_by_tag_name,\n\u001b[0;32m    <a href='file:///c%3A/Users/steph/AppData/Local/Programs/Python/Python310/lib/site-packages/splinter/driver/webdriver/__init__.py?line=561'>562</a>\u001b[0m         tag,\n\u001b[0;32m    <a href='file:///c%3A/Users/steph/AppData/Local/Programs/Python/Python310/lib/site-packages/splinter/driver/webdriver/__init__.py?line=562'>563</a>\u001b[0m         wait_time\u001b[39m=\u001b[39;49mwait_time,\n\u001b[0;32m    <a href='file:///c%3A/Users/steph/AppData/Local/Programs/Python/Python310/lib/site-packages/splinter/driver/webdriver/__init__.py?line=563'>564</a>\u001b[0m     )\n",
      "File \u001b[1;32m~\\AppData\\Local\\Programs\\Python\\Python310\\lib\\site-packages\\splinter\\driver\\webdriver\\__init__.py:274\u001b[0m, in \u001b[0;36mfind_by\u001b[1;34m(self, finder, selector, original_find, original_query, wait_time)\u001b[0m\n\u001b[0;32m    <a href='file:///c%3A/Users/steph/AppData/Local/Programs/Python/Python310/lib/site-packages/splinter/driver/webdriver/__init__.py?line=270'>271</a>\u001b[0m end_time \u001b[39m=\u001b[39m time\u001b[39m.\u001b[39mtime() \u001b[39m+\u001b[39m wait_time\n\u001b[0;32m    <a href='file:///c%3A/Users/steph/AppData/Local/Programs/Python/Python310/lib/site-packages/splinter/driver/webdriver/__init__.py?line=272'>273</a>\u001b[0m \u001b[39mwhile\u001b[39;00m time\u001b[39m.\u001b[39mtime() \u001b[39m<\u001b[39m end_time:\n\u001b[1;32m--> <a href='file:///c%3A/Users/steph/AppData/Local/Programs/Python/Python310/lib/site-packages/splinter/driver/webdriver/__init__.py?line=273'>274</a>\u001b[0m     elem_list \u001b[39m=\u001b[39m _find(\u001b[39mself\u001b[39;49m, finder, selector)\n\u001b[0;32m    <a href='file:///c%3A/Users/steph/AppData/Local/Programs/Python/Python310/lib/site-packages/splinter/driver/webdriver/__init__.py?line=275'>276</a>\u001b[0m     \u001b[39mif\u001b[39;00m elem_list:\n\u001b[0;32m    <a href='file:///c%3A/Users/steph/AppData/Local/Programs/Python/Python310/lib/site-packages/splinter/driver/webdriver/__init__.py?line=276'>277</a>\u001b[0m         \u001b[39mbreak\u001b[39;00m\n",
      "File \u001b[1;32m~\\AppData\\Local\\Programs\\Python\\Python310\\lib\\site-packages\\splinter\\driver\\webdriver\\__init__.py:233\u001b[0m, in \u001b[0;36m_find\u001b[1;34m(self, finder, selector)\u001b[0m\n\u001b[0;32m    <a href='file:///c%3A/Users/steph/AppData/Local/Programs/Python/Python310/lib/site-packages/splinter/driver/webdriver/__init__.py?line=229'>230</a>\u001b[0m elem_list \u001b[39m=\u001b[39m []\n\u001b[0;32m    <a href='file:///c%3A/Users/steph/AppData/Local/Programs/Python/Python310/lib/site-packages/splinter/driver/webdriver/__init__.py?line=231'>232</a>\u001b[0m \u001b[39mtry\u001b[39;00m:\n\u001b[1;32m--> <a href='file:///c%3A/Users/steph/AppData/Local/Programs/Python/Python310/lib/site-packages/splinter/driver/webdriver/__init__.py?line=232'>233</a>\u001b[0m     elements \u001b[39m=\u001b[39m finder(selector)\n\u001b[0;32m    <a href='file:///c%3A/Users/steph/AppData/Local/Programs/Python/Python310/lib/site-packages/splinter/driver/webdriver/__init__.py?line=233'>234</a>\u001b[0m     \u001b[39mif\u001b[39;00m \u001b[39mnot\u001b[39;00m \u001b[39misinstance\u001b[39m(elements, \u001b[39mlist\u001b[39m):\n\u001b[0;32m    <a href='file:///c%3A/Users/steph/AppData/Local/Programs/Python/Python310/lib/site-packages/splinter/driver/webdriver/__init__.py?line=234'>235</a>\u001b[0m         elements \u001b[39m=\u001b[39m [elements]\n",
      "File \u001b[1;32m~\\AppData\\Local\\Programs\\Python\\Python310\\lib\\site-packages\\selenium\\webdriver\\remote\\webdriver.py:741\u001b[0m, in \u001b[0;36mWebDriver.find_elements_by_tag_name\u001b[1;34m(self, name)\u001b[0m\n\u001b[0;32m    <a href='file:///c%3A/Users/steph/AppData/Local/Programs/Python/Python310/lib/site-packages/selenium/webdriver/remote/webdriver.py?line=720'>721</a>\u001b[0m \u001b[39m\"\"\"\u001b[39;00m\n\u001b[0;32m    <a href='file:///c%3A/Users/steph/AppData/Local/Programs/Python/Python310/lib/site-packages/selenium/webdriver/remote/webdriver.py?line=721'>722</a>\u001b[0m \u001b[39mFinds elements by tag name.\u001b[39;00m\n\u001b[0;32m    <a href='file:///c%3A/Users/steph/AppData/Local/Programs/Python/Python310/lib/site-packages/selenium/webdriver/remote/webdriver.py?line=722'>723</a>\u001b[0m \n\u001b[1;32m   (...)\u001b[0m\n\u001b[0;32m    <a href='file:///c%3A/Users/steph/AppData/Local/Programs/Python/Python310/lib/site-packages/selenium/webdriver/remote/webdriver.py?line=733'>734</a>\u001b[0m \u001b[39m        elements = driver.find_elements_by_tag_name('h1')\u001b[39;00m\n\u001b[0;32m    <a href='file:///c%3A/Users/steph/AppData/Local/Programs/Python/Python310/lib/site-packages/selenium/webdriver/remote/webdriver.py?line=734'>735</a>\u001b[0m \u001b[39m\"\"\"\u001b[39;00m\n\u001b[0;32m    <a href='file:///c%3A/Users/steph/AppData/Local/Programs/Python/Python310/lib/site-packages/selenium/webdriver/remote/webdriver.py?line=735'>736</a>\u001b[0m warnings\u001b[39m.\u001b[39mwarn(\n\u001b[0;32m    <a href='file:///c%3A/Users/steph/AppData/Local/Programs/Python/Python310/lib/site-packages/selenium/webdriver/remote/webdriver.py?line=736'>737</a>\u001b[0m     \u001b[39m\"\u001b[39m\u001b[39mfind_elements_by_tag_name is deprecated. Please use find_elements(by=By.TAG_NAME, value=name) instead\u001b[39m\u001b[39m\"\u001b[39m,\n\u001b[0;32m    <a href='file:///c%3A/Users/steph/AppData/Local/Programs/Python/Python310/lib/site-packages/selenium/webdriver/remote/webdriver.py?line=737'>738</a>\u001b[0m     \u001b[39mDeprecationWarning\u001b[39;00m,\n\u001b[0;32m    <a href='file:///c%3A/Users/steph/AppData/Local/Programs/Python/Python310/lib/site-packages/selenium/webdriver/remote/webdriver.py?line=738'>739</a>\u001b[0m     stacklevel\u001b[39m=\u001b[39m\u001b[39m2\u001b[39m,\n\u001b[0;32m    <a href='file:///c%3A/Users/steph/AppData/Local/Programs/Python/Python310/lib/site-packages/selenium/webdriver/remote/webdriver.py?line=739'>740</a>\u001b[0m )\n\u001b[1;32m--> <a href='file:///c%3A/Users/steph/AppData/Local/Programs/Python/Python310/lib/site-packages/selenium/webdriver/remote/webdriver.py?line=740'>741</a>\u001b[0m \u001b[39mreturn\u001b[39;00m \u001b[39mself\u001b[39;49m\u001b[39m.\u001b[39;49mfind_elements(by\u001b[39m=\u001b[39;49mBy\u001b[39m.\u001b[39;49mTAG_NAME, value\u001b[39m=\u001b[39;49mname)\n",
      "File \u001b[1;32m~\\AppData\\Local\\Programs\\Python\\Python310\\lib\\site-packages\\selenium\\webdriver\\remote\\webdriver.py:1284\u001b[0m, in \u001b[0;36mWebDriver.find_elements\u001b[1;34m(self, by, value)\u001b[0m\n\u001b[0;32m   <a href='file:///c%3A/Users/steph/AppData/Local/Programs/Python/Python310/lib/site-packages/selenium/webdriver/remote/webdriver.py?line=1279'>1280</a>\u001b[0m     value \u001b[39m=\u001b[39m \u001b[39m'\u001b[39m\u001b[39m[name=\u001b[39m\u001b[39m\"\u001b[39m\u001b[39m%s\u001b[39;00m\u001b[39m\"\u001b[39m\u001b[39m]\u001b[39m\u001b[39m'\u001b[39m \u001b[39m%\u001b[39m value\n\u001b[0;32m   <a href='file:///c%3A/Users/steph/AppData/Local/Programs/Python/Python310/lib/site-packages/selenium/webdriver/remote/webdriver.py?line=1281'>1282</a>\u001b[0m \u001b[39m# Return empty list if driver returns null\u001b[39;00m\n\u001b[0;32m   <a href='file:///c%3A/Users/steph/AppData/Local/Programs/Python/Python310/lib/site-packages/selenium/webdriver/remote/webdriver.py?line=1282'>1283</a>\u001b[0m \u001b[39m# See https://github.com/SeleniumHQ/selenium/issues/4555\u001b[39;00m\n\u001b[1;32m-> <a href='file:///c%3A/Users/steph/AppData/Local/Programs/Python/Python310/lib/site-packages/selenium/webdriver/remote/webdriver.py?line=1283'>1284</a>\u001b[0m \u001b[39mreturn\u001b[39;00m \u001b[39mself\u001b[39;49m\u001b[39m.\u001b[39;49mexecute(Command\u001b[39m.\u001b[39;49mFIND_ELEMENTS, {\n\u001b[0;32m   <a href='file:///c%3A/Users/steph/AppData/Local/Programs/Python/Python310/lib/site-packages/selenium/webdriver/remote/webdriver.py?line=1284'>1285</a>\u001b[0m     \u001b[39m'\u001b[39;49m\u001b[39musing\u001b[39;49m\u001b[39m'\u001b[39;49m: by,\n\u001b[0;32m   <a href='file:///c%3A/Users/steph/AppData/Local/Programs/Python/Python310/lib/site-packages/selenium/webdriver/remote/webdriver.py?line=1285'>1286</a>\u001b[0m     \u001b[39m'\u001b[39;49m\u001b[39mvalue\u001b[39;49m\u001b[39m'\u001b[39;49m: value})[\u001b[39m'\u001b[39m\u001b[39mvalue\u001b[39m\u001b[39m'\u001b[39m] \u001b[39mor\u001b[39;00m []\n",
      "File \u001b[1;32m~\\AppData\\Local\\Programs\\Python\\Python310\\lib\\site-packages\\selenium\\webdriver\\remote\\webdriver.py:428\u001b[0m, in \u001b[0;36mWebDriver.execute\u001b[1;34m(self, driver_command, params)\u001b[0m\n\u001b[0;32m    <a href='file:///c%3A/Users/steph/AppData/Local/Programs/Python/Python310/lib/site-packages/selenium/webdriver/remote/webdriver.py?line=424'>425</a>\u001b[0m         params[\u001b[39m'\u001b[39m\u001b[39msessionId\u001b[39m\u001b[39m'\u001b[39m] \u001b[39m=\u001b[39m \u001b[39mself\u001b[39m\u001b[39m.\u001b[39msession_id\n\u001b[0;32m    <a href='file:///c%3A/Users/steph/AppData/Local/Programs/Python/Python310/lib/site-packages/selenium/webdriver/remote/webdriver.py?line=426'>427</a>\u001b[0m params \u001b[39m=\u001b[39m \u001b[39mself\u001b[39m\u001b[39m.\u001b[39m_wrap_value(params)\n\u001b[1;32m--> <a href='file:///c%3A/Users/steph/AppData/Local/Programs/Python/Python310/lib/site-packages/selenium/webdriver/remote/webdriver.py?line=427'>428</a>\u001b[0m response \u001b[39m=\u001b[39m \u001b[39mself\u001b[39;49m\u001b[39m.\u001b[39;49mcommand_executor\u001b[39m.\u001b[39;49mexecute(driver_command, params)\n\u001b[0;32m    <a href='file:///c%3A/Users/steph/AppData/Local/Programs/Python/Python310/lib/site-packages/selenium/webdriver/remote/webdriver.py?line=428'>429</a>\u001b[0m \u001b[39mif\u001b[39;00m response:\n\u001b[0;32m    <a href='file:///c%3A/Users/steph/AppData/Local/Programs/Python/Python310/lib/site-packages/selenium/webdriver/remote/webdriver.py?line=429'>430</a>\u001b[0m     \u001b[39mself\u001b[39m\u001b[39m.\u001b[39merror_handler\u001b[39m.\u001b[39mcheck_response(response)\n",
      "File \u001b[1;32m~\\AppData\\Local\\Programs\\Python\\Python310\\lib\\site-packages\\selenium\\webdriver\\remote\\remote_connection.py:347\u001b[0m, in \u001b[0;36mRemoteConnection.execute\u001b[1;34m(self, command, params)\u001b[0m\n\u001b[0;32m    <a href='file:///c%3A/Users/steph/AppData/Local/Programs/Python/Python310/lib/site-packages/selenium/webdriver/remote/remote_connection.py?line=344'>345</a>\u001b[0m data \u001b[39m=\u001b[39m utils\u001b[39m.\u001b[39mdump_json(params)\n\u001b[0;32m    <a href='file:///c%3A/Users/steph/AppData/Local/Programs/Python/Python310/lib/site-packages/selenium/webdriver/remote/remote_connection.py?line=345'>346</a>\u001b[0m url \u001b[39m=\u001b[39m \u001b[39mf\u001b[39m\u001b[39m\"\u001b[39m\u001b[39m{\u001b[39;00m\u001b[39mself\u001b[39m\u001b[39m.\u001b[39m_url\u001b[39m}\u001b[39;00m\u001b[39m{\u001b[39;00mpath\u001b[39m}\u001b[39;00m\u001b[39m\"\u001b[39m\n\u001b[1;32m--> <a href='file:///c%3A/Users/steph/AppData/Local/Programs/Python/Python310/lib/site-packages/selenium/webdriver/remote/remote_connection.py?line=346'>347</a>\u001b[0m \u001b[39mreturn\u001b[39;00m \u001b[39mself\u001b[39;49m\u001b[39m.\u001b[39;49m_request(command_info[\u001b[39m0\u001b[39;49m], url, body\u001b[39m=\u001b[39;49mdata)\n",
      "File \u001b[1;32m~\\AppData\\Local\\Programs\\Python\\Python310\\lib\\site-packages\\splinter\\driver\\webdriver\\remote_connection.py:23\u001b[0m, in \u001b[0;36mpatch_request\u001b[1;34m(self, *args, **kwargs)\u001b[0m\n\u001b[0;32m     <a href='file:///c%3A/Users/steph/AppData/Local/Programs/Python/Python310/lib/site-packages/splinter/driver/webdriver/remote_connection.py?line=20'>21</a>\u001b[0m         exception \u001b[39m=\u001b[39m exc\n\u001b[0;32m     <a href='file:///c%3A/Users/steph/AppData/Local/Programs/Python/Python310/lib/site-packages/splinter/driver/webdriver/remote_connection.py?line=21'>22</a>\u001b[0m         \u001b[39mself\u001b[39m\u001b[39m.\u001b[39m_conn \u001b[39m=\u001b[39m urllib3\u001b[39m.\u001b[39mPoolManager(timeout\u001b[39m=\u001b[39m\u001b[39mself\u001b[39m\u001b[39m.\u001b[39m_timeout)\n\u001b[1;32m---> <a href='file:///c%3A/Users/steph/AppData/Local/Programs/Python/Python310/lib/site-packages/splinter/driver/webdriver/remote_connection.py?line=22'>23</a>\u001b[0m \u001b[39mraise\u001b[39;00m exception\n",
      "File \u001b[1;32m~\\AppData\\Local\\Programs\\Python\\Python310\\lib\\site-packages\\splinter\\driver\\webdriver\\remote_connection.py:19\u001b[0m, in \u001b[0;36mpatch_request\u001b[1;34m(self, *args, **kwargs)\u001b[0m\n\u001b[0;32m     <a href='file:///c%3A/Users/steph/AppData/Local/Programs/Python/Python310/lib/site-packages/splinter/driver/webdriver/remote_connection.py?line=16'>17</a>\u001b[0m \u001b[39mfor\u001b[39;00m _ \u001b[39min\u001b[39;00m \u001b[39mrange\u001b[39m(\u001b[39m3\u001b[39m):\n\u001b[0;32m     <a href='file:///c%3A/Users/steph/AppData/Local/Programs/Python/Python310/lib/site-packages/splinter/driver/webdriver/remote_connection.py?line=17'>18</a>\u001b[0m     \u001b[39mtry\u001b[39;00m:\n\u001b[1;32m---> <a href='file:///c%3A/Users/steph/AppData/Local/Programs/Python/Python310/lib/site-packages/splinter/driver/webdriver/remote_connection.py?line=18'>19</a>\u001b[0m         \u001b[39mreturn\u001b[39;00m old_request(\u001b[39mself\u001b[39m, \u001b[39m*\u001b[39margs, \u001b[39m*\u001b[39m\u001b[39m*\u001b[39mkwargs)\n\u001b[0;32m     <a href='file:///c%3A/Users/steph/AppData/Local/Programs/Python/Python310/lib/site-packages/splinter/driver/webdriver/remote_connection.py?line=19'>20</a>\u001b[0m     \u001b[39mexcept\u001b[39;00m (socket\u001b[39m.\u001b[39merror, HTTPException, \u001b[39mIOError\u001b[39;00m, \u001b[39mOSError\u001b[39;00m, MaxRetryError) \u001b[39mas\u001b[39;00m exc:\n\u001b[0;32m     <a href='file:///c%3A/Users/steph/AppData/Local/Programs/Python/Python310/lib/site-packages/splinter/driver/webdriver/remote_connection.py?line=20'>21</a>\u001b[0m         exception \u001b[39m=\u001b[39m exc\n",
      "File \u001b[1;32m~\\AppData\\Local\\Programs\\Python\\Python310\\lib\\site-packages\\selenium\\webdriver\\remote\\remote_connection.py:369\u001b[0m, in \u001b[0;36mRemoteConnection._request\u001b[1;34m(self, method, url, body)\u001b[0m\n\u001b[0;32m    <a href='file:///c%3A/Users/steph/AppData/Local/Programs/Python/Python310/lib/site-packages/selenium/webdriver/remote/remote_connection.py?line=365'>366</a>\u001b[0m     body \u001b[39m=\u001b[39m \u001b[39mNone\u001b[39;00m\n\u001b[0;32m    <a href='file:///c%3A/Users/steph/AppData/Local/Programs/Python/Python310/lib/site-packages/selenium/webdriver/remote/remote_connection.py?line=367'>368</a>\u001b[0m \u001b[39mif\u001b[39;00m \u001b[39mself\u001b[39m\u001b[39m.\u001b[39mkeep_alive:\n\u001b[1;32m--> <a href='file:///c%3A/Users/steph/AppData/Local/Programs/Python/Python310/lib/site-packages/selenium/webdriver/remote/remote_connection.py?line=368'>369</a>\u001b[0m     response \u001b[39m=\u001b[39m \u001b[39mself\u001b[39;49m\u001b[39m.\u001b[39;49m_conn\u001b[39m.\u001b[39;49mrequest(method, url, body\u001b[39m=\u001b[39;49mbody, headers\u001b[39m=\u001b[39;49mheaders)\n\u001b[0;32m    <a href='file:///c%3A/Users/steph/AppData/Local/Programs/Python/Python310/lib/site-packages/selenium/webdriver/remote/remote_connection.py?line=369'>370</a>\u001b[0m     statuscode \u001b[39m=\u001b[39m response\u001b[39m.\u001b[39mstatus\n\u001b[0;32m    <a href='file:///c%3A/Users/steph/AppData/Local/Programs/Python/Python310/lib/site-packages/selenium/webdriver/remote/remote_connection.py?line=370'>371</a>\u001b[0m \u001b[39melse\u001b[39;00m:\n",
      "File \u001b[1;32m~\\AppData\\Local\\Programs\\Python\\Python310\\lib\\site-packages\\urllib3\\request.py:78\u001b[0m, in \u001b[0;36mRequestMethods.request\u001b[1;34m(self, method, url, fields, headers, **urlopen_kw)\u001b[0m\n\u001b[0;32m     <a href='file:///c%3A/Users/steph/AppData/Local/Programs/Python/Python310/lib/site-packages/urllib3/request.py?line=73'>74</a>\u001b[0m     \u001b[39mreturn\u001b[39;00m \u001b[39mself\u001b[39m\u001b[39m.\u001b[39mrequest_encode_url(\n\u001b[0;32m     <a href='file:///c%3A/Users/steph/AppData/Local/Programs/Python/Python310/lib/site-packages/urllib3/request.py?line=74'>75</a>\u001b[0m         method, url, fields\u001b[39m=\u001b[39mfields, headers\u001b[39m=\u001b[39mheaders, \u001b[39m*\u001b[39m\u001b[39m*\u001b[39murlopen_kw\n\u001b[0;32m     <a href='file:///c%3A/Users/steph/AppData/Local/Programs/Python/Python310/lib/site-packages/urllib3/request.py?line=75'>76</a>\u001b[0m     )\n\u001b[0;32m     <a href='file:///c%3A/Users/steph/AppData/Local/Programs/Python/Python310/lib/site-packages/urllib3/request.py?line=76'>77</a>\u001b[0m \u001b[39melse\u001b[39;00m:\n\u001b[1;32m---> <a href='file:///c%3A/Users/steph/AppData/Local/Programs/Python/Python310/lib/site-packages/urllib3/request.py?line=77'>78</a>\u001b[0m     \u001b[39mreturn\u001b[39;00m \u001b[39mself\u001b[39m\u001b[39m.\u001b[39mrequest_encode_body(\n\u001b[0;32m     <a href='file:///c%3A/Users/steph/AppData/Local/Programs/Python/Python310/lib/site-packages/urllib3/request.py?line=78'>79</a>\u001b[0m         method, url, fields\u001b[39m=\u001b[39mfields, headers\u001b[39m=\u001b[39mheaders, \u001b[39m*\u001b[39m\u001b[39m*\u001b[39murlopen_kw\n\u001b[0;32m     <a href='file:///c%3A/Users/steph/AppData/Local/Programs/Python/Python310/lib/site-packages/urllib3/request.py?line=79'>80</a>\u001b[0m     )\n",
      "File \u001b[1;32m~\\AppData\\Local\\Programs\\Python\\Python310\\lib\\site-packages\\urllib3\\request.py:170\u001b[0m, in \u001b[0;36mRequestMethods.request_encode_body\u001b[1;34m(self, method, url, fields, headers, encode_multipart, multipart_boundary, **urlopen_kw)\u001b[0m\n\u001b[0;32m    <a href='file:///c%3A/Users/steph/AppData/Local/Programs/Python/Python310/lib/site-packages/urllib3/request.py?line=166'>167</a>\u001b[0m extra_kw[\u001b[39m\"\u001b[39m\u001b[39mheaders\u001b[39m\u001b[39m\"\u001b[39m]\u001b[39m.\u001b[39mupdate(headers)\n\u001b[0;32m    <a href='file:///c%3A/Users/steph/AppData/Local/Programs/Python/Python310/lib/site-packages/urllib3/request.py?line=167'>168</a>\u001b[0m extra_kw\u001b[39m.\u001b[39mupdate(urlopen_kw)\n\u001b[1;32m--> <a href='file:///c%3A/Users/steph/AppData/Local/Programs/Python/Python310/lib/site-packages/urllib3/request.py?line=169'>170</a>\u001b[0m \u001b[39mreturn\u001b[39;00m \u001b[39mself\u001b[39m\u001b[39m.\u001b[39murlopen(method, url, \u001b[39m*\u001b[39m\u001b[39m*\u001b[39mextra_kw)\n",
      "File \u001b[1;32m~\\AppData\\Local\\Programs\\Python\\Python310\\lib\\site-packages\\urllib3\\poolmanager.py:375\u001b[0m, in \u001b[0;36mPoolManager.urlopen\u001b[1;34m(self, method, url, redirect, **kw)\u001b[0m\n\u001b[0;32m    <a href='file:///c%3A/Users/steph/AppData/Local/Programs/Python/Python310/lib/site-packages/urllib3/poolmanager.py?line=372'>373</a>\u001b[0m     response \u001b[39m=\u001b[39m conn\u001b[39m.\u001b[39murlopen(method, url, \u001b[39m*\u001b[39m\u001b[39m*\u001b[39mkw)\n\u001b[0;32m    <a href='file:///c%3A/Users/steph/AppData/Local/Programs/Python/Python310/lib/site-packages/urllib3/poolmanager.py?line=373'>374</a>\u001b[0m \u001b[39melse\u001b[39;00m:\n\u001b[1;32m--> <a href='file:///c%3A/Users/steph/AppData/Local/Programs/Python/Python310/lib/site-packages/urllib3/poolmanager.py?line=374'>375</a>\u001b[0m     response \u001b[39m=\u001b[39m conn\u001b[39m.\u001b[39murlopen(method, u\u001b[39m.\u001b[39mrequest_uri, \u001b[39m*\u001b[39m\u001b[39m*\u001b[39mkw)\n\u001b[0;32m    <a href='file:///c%3A/Users/steph/AppData/Local/Programs/Python/Python310/lib/site-packages/urllib3/poolmanager.py?line=376'>377</a>\u001b[0m redirect_location \u001b[39m=\u001b[39m redirect \u001b[39mand\u001b[39;00m response\u001b[39m.\u001b[39mget_redirect_location()\n\u001b[0;32m    <a href='file:///c%3A/Users/steph/AppData/Local/Programs/Python/Python310/lib/site-packages/urllib3/poolmanager.py?line=377'>378</a>\u001b[0m \u001b[39mif\u001b[39;00m \u001b[39mnot\u001b[39;00m redirect_location:\n",
      "File \u001b[1;32m~\\AppData\\Local\\Programs\\Python\\Python310\\lib\\site-packages\\urllib3\\connectionpool.py:783\u001b[0m, in \u001b[0;36mHTTPConnectionPool.urlopen\u001b[1;34m(self, method, url, body, headers, retries, redirect, assert_same_host, timeout, pool_timeout, release_conn, chunked, body_pos, **response_kw)\u001b[0m\n\u001b[0;32m    <a href='file:///c%3A/Users/steph/AppData/Local/Programs/Python/Python310/lib/site-packages/urllib3/connectionpool.py?line=777'>778</a>\u001b[0m \u001b[39mif\u001b[39;00m \u001b[39mnot\u001b[39;00m conn:\n\u001b[0;32m    <a href='file:///c%3A/Users/steph/AppData/Local/Programs/Python/Python310/lib/site-packages/urllib3/connectionpool.py?line=778'>779</a>\u001b[0m     \u001b[39m# Try again\u001b[39;00m\n\u001b[0;32m    <a href='file:///c%3A/Users/steph/AppData/Local/Programs/Python/Python310/lib/site-packages/urllib3/connectionpool.py?line=779'>780</a>\u001b[0m     log\u001b[39m.\u001b[39mwarning(\n\u001b[0;32m    <a href='file:///c%3A/Users/steph/AppData/Local/Programs/Python/Python310/lib/site-packages/urllib3/connectionpool.py?line=780'>781</a>\u001b[0m         \u001b[39m\"\u001b[39m\u001b[39mRetrying (\u001b[39m\u001b[39m%r\u001b[39;00m\u001b[39m) after connection broken by \u001b[39m\u001b[39m'\u001b[39m\u001b[39m%r\u001b[39;00m\u001b[39m'\u001b[39m\u001b[39m: \u001b[39m\u001b[39m%s\u001b[39;00m\u001b[39m\"\u001b[39m, retries, err, url\n\u001b[0;32m    <a href='file:///c%3A/Users/steph/AppData/Local/Programs/Python/Python310/lib/site-packages/urllib3/connectionpool.py?line=781'>782</a>\u001b[0m     )\n\u001b[1;32m--> <a href='file:///c%3A/Users/steph/AppData/Local/Programs/Python/Python310/lib/site-packages/urllib3/connectionpool.py?line=782'>783</a>\u001b[0m     \u001b[39mreturn\u001b[39;00m \u001b[39mself\u001b[39m\u001b[39m.\u001b[39murlopen(\n\u001b[0;32m    <a href='file:///c%3A/Users/steph/AppData/Local/Programs/Python/Python310/lib/site-packages/urllib3/connectionpool.py?line=783'>784</a>\u001b[0m         method,\n\u001b[0;32m    <a href='file:///c%3A/Users/steph/AppData/Local/Programs/Python/Python310/lib/site-packages/urllib3/connectionpool.py?line=784'>785</a>\u001b[0m         url,\n\u001b[0;32m    <a href='file:///c%3A/Users/steph/AppData/Local/Programs/Python/Python310/lib/site-packages/urllib3/connectionpool.py?line=785'>786</a>\u001b[0m         body,\n\u001b[0;32m    <a href='file:///c%3A/Users/steph/AppData/Local/Programs/Python/Python310/lib/site-packages/urllib3/connectionpool.py?line=786'>787</a>\u001b[0m         headers,\n\u001b[0;32m    <a href='file:///c%3A/Users/steph/AppData/Local/Programs/Python/Python310/lib/site-packages/urllib3/connectionpool.py?line=787'>788</a>\u001b[0m         retries,\n\u001b[0;32m    <a href='file:///c%3A/Users/steph/AppData/Local/Programs/Python/Python310/lib/site-packages/urllib3/connectionpool.py?line=788'>789</a>\u001b[0m         redirect,\n\u001b[0;32m    <a href='file:///c%3A/Users/steph/AppData/Local/Programs/Python/Python310/lib/site-packages/urllib3/connectionpool.py?line=789'>790</a>\u001b[0m         assert_same_host,\n\u001b[0;32m    <a href='file:///c%3A/Users/steph/AppData/Local/Programs/Python/Python310/lib/site-packages/urllib3/connectionpool.py?line=790'>791</a>\u001b[0m         timeout\u001b[39m=\u001b[39mtimeout,\n\u001b[0;32m    <a href='file:///c%3A/Users/steph/AppData/Local/Programs/Python/Python310/lib/site-packages/urllib3/connectionpool.py?line=791'>792</a>\u001b[0m         pool_timeout\u001b[39m=\u001b[39mpool_timeout,\n\u001b[0;32m    <a href='file:///c%3A/Users/steph/AppData/Local/Programs/Python/Python310/lib/site-packages/urllib3/connectionpool.py?line=792'>793</a>\u001b[0m         release_conn\u001b[39m=\u001b[39mrelease_conn,\n\u001b[0;32m    <a href='file:///c%3A/Users/steph/AppData/Local/Programs/Python/Python310/lib/site-packages/urllib3/connectionpool.py?line=793'>794</a>\u001b[0m         chunked\u001b[39m=\u001b[39mchunked,\n\u001b[0;32m    <a href='file:///c%3A/Users/steph/AppData/Local/Programs/Python/Python310/lib/site-packages/urllib3/connectionpool.py?line=794'>795</a>\u001b[0m         body_pos\u001b[39m=\u001b[39mbody_pos,\n\u001b[0;32m    <a href='file:///c%3A/Users/steph/AppData/Local/Programs/Python/Python310/lib/site-packages/urllib3/connectionpool.py?line=795'>796</a>\u001b[0m         \u001b[39m*\u001b[39m\u001b[39m*\u001b[39mresponse_kw\n\u001b[0;32m    <a href='file:///c%3A/Users/steph/AppData/Local/Programs/Python/Python310/lib/site-packages/urllib3/connectionpool.py?line=796'>797</a>\u001b[0m     )\n\u001b[0;32m    <a href='file:///c%3A/Users/steph/AppData/Local/Programs/Python/Python310/lib/site-packages/urllib3/connectionpool.py?line=798'>799</a>\u001b[0m \u001b[39m# Handle redirect?\u001b[39;00m\n\u001b[0;32m    <a href='file:///c%3A/Users/steph/AppData/Local/Programs/Python/Python310/lib/site-packages/urllib3/connectionpool.py?line=799'>800</a>\u001b[0m redirect_location \u001b[39m=\u001b[39m redirect \u001b[39mand\u001b[39;00m response\u001b[39m.\u001b[39mget_redirect_location()\n",
      "File \u001b[1;32m~\\AppData\\Local\\Programs\\Python\\Python310\\lib\\site-packages\\urllib3\\connectionpool.py:783\u001b[0m, in \u001b[0;36mHTTPConnectionPool.urlopen\u001b[1;34m(self, method, url, body, headers, retries, redirect, assert_same_host, timeout, pool_timeout, release_conn, chunked, body_pos, **response_kw)\u001b[0m\n\u001b[0;32m    <a href='file:///c%3A/Users/steph/AppData/Local/Programs/Python/Python310/lib/site-packages/urllib3/connectionpool.py?line=777'>778</a>\u001b[0m \u001b[39mif\u001b[39;00m \u001b[39mnot\u001b[39;00m conn:\n\u001b[0;32m    <a href='file:///c%3A/Users/steph/AppData/Local/Programs/Python/Python310/lib/site-packages/urllib3/connectionpool.py?line=778'>779</a>\u001b[0m     \u001b[39m# Try again\u001b[39;00m\n\u001b[0;32m    <a href='file:///c%3A/Users/steph/AppData/Local/Programs/Python/Python310/lib/site-packages/urllib3/connectionpool.py?line=779'>780</a>\u001b[0m     log\u001b[39m.\u001b[39mwarning(\n\u001b[0;32m    <a href='file:///c%3A/Users/steph/AppData/Local/Programs/Python/Python310/lib/site-packages/urllib3/connectionpool.py?line=780'>781</a>\u001b[0m         \u001b[39m\"\u001b[39m\u001b[39mRetrying (\u001b[39m\u001b[39m%r\u001b[39;00m\u001b[39m) after connection broken by \u001b[39m\u001b[39m'\u001b[39m\u001b[39m%r\u001b[39;00m\u001b[39m'\u001b[39m\u001b[39m: \u001b[39m\u001b[39m%s\u001b[39;00m\u001b[39m\"\u001b[39m, retries, err, url\n\u001b[0;32m    <a href='file:///c%3A/Users/steph/AppData/Local/Programs/Python/Python310/lib/site-packages/urllib3/connectionpool.py?line=781'>782</a>\u001b[0m     )\n\u001b[1;32m--> <a href='file:///c%3A/Users/steph/AppData/Local/Programs/Python/Python310/lib/site-packages/urllib3/connectionpool.py?line=782'>783</a>\u001b[0m     \u001b[39mreturn\u001b[39;00m \u001b[39mself\u001b[39m\u001b[39m.\u001b[39murlopen(\n\u001b[0;32m    <a href='file:///c%3A/Users/steph/AppData/Local/Programs/Python/Python310/lib/site-packages/urllib3/connectionpool.py?line=783'>784</a>\u001b[0m         method,\n\u001b[0;32m    <a href='file:///c%3A/Users/steph/AppData/Local/Programs/Python/Python310/lib/site-packages/urllib3/connectionpool.py?line=784'>785</a>\u001b[0m         url,\n\u001b[0;32m    <a href='file:///c%3A/Users/steph/AppData/Local/Programs/Python/Python310/lib/site-packages/urllib3/connectionpool.py?line=785'>786</a>\u001b[0m         body,\n\u001b[0;32m    <a href='file:///c%3A/Users/steph/AppData/Local/Programs/Python/Python310/lib/site-packages/urllib3/connectionpool.py?line=786'>787</a>\u001b[0m         headers,\n\u001b[0;32m    <a href='file:///c%3A/Users/steph/AppData/Local/Programs/Python/Python310/lib/site-packages/urllib3/connectionpool.py?line=787'>788</a>\u001b[0m         retries,\n\u001b[0;32m    <a href='file:///c%3A/Users/steph/AppData/Local/Programs/Python/Python310/lib/site-packages/urllib3/connectionpool.py?line=788'>789</a>\u001b[0m         redirect,\n\u001b[0;32m    <a href='file:///c%3A/Users/steph/AppData/Local/Programs/Python/Python310/lib/site-packages/urllib3/connectionpool.py?line=789'>790</a>\u001b[0m         assert_same_host,\n\u001b[0;32m    <a href='file:///c%3A/Users/steph/AppData/Local/Programs/Python/Python310/lib/site-packages/urllib3/connectionpool.py?line=790'>791</a>\u001b[0m         timeout\u001b[39m=\u001b[39mtimeout,\n\u001b[0;32m    <a href='file:///c%3A/Users/steph/AppData/Local/Programs/Python/Python310/lib/site-packages/urllib3/connectionpool.py?line=791'>792</a>\u001b[0m         pool_timeout\u001b[39m=\u001b[39mpool_timeout,\n\u001b[0;32m    <a href='file:///c%3A/Users/steph/AppData/Local/Programs/Python/Python310/lib/site-packages/urllib3/connectionpool.py?line=792'>793</a>\u001b[0m         release_conn\u001b[39m=\u001b[39mrelease_conn,\n\u001b[0;32m    <a href='file:///c%3A/Users/steph/AppData/Local/Programs/Python/Python310/lib/site-packages/urllib3/connectionpool.py?line=793'>794</a>\u001b[0m         chunked\u001b[39m=\u001b[39mchunked,\n\u001b[0;32m    <a href='file:///c%3A/Users/steph/AppData/Local/Programs/Python/Python310/lib/site-packages/urllib3/connectionpool.py?line=794'>795</a>\u001b[0m         body_pos\u001b[39m=\u001b[39mbody_pos,\n\u001b[0;32m    <a href='file:///c%3A/Users/steph/AppData/Local/Programs/Python/Python310/lib/site-packages/urllib3/connectionpool.py?line=795'>796</a>\u001b[0m         \u001b[39m*\u001b[39m\u001b[39m*\u001b[39mresponse_kw\n\u001b[0;32m    <a href='file:///c%3A/Users/steph/AppData/Local/Programs/Python/Python310/lib/site-packages/urllib3/connectionpool.py?line=796'>797</a>\u001b[0m     )\n\u001b[0;32m    <a href='file:///c%3A/Users/steph/AppData/Local/Programs/Python/Python310/lib/site-packages/urllib3/connectionpool.py?line=798'>799</a>\u001b[0m \u001b[39m# Handle redirect?\u001b[39;00m\n\u001b[0;32m    <a href='file:///c%3A/Users/steph/AppData/Local/Programs/Python/Python310/lib/site-packages/urllib3/connectionpool.py?line=799'>800</a>\u001b[0m redirect_location \u001b[39m=\u001b[39m redirect \u001b[39mand\u001b[39;00m response\u001b[39m.\u001b[39mget_redirect_location()\n",
      "File \u001b[1;32m~\\AppData\\Local\\Programs\\Python\\Python310\\lib\\site-packages\\urllib3\\connectionpool.py:783\u001b[0m, in \u001b[0;36mHTTPConnectionPool.urlopen\u001b[1;34m(self, method, url, body, headers, retries, redirect, assert_same_host, timeout, pool_timeout, release_conn, chunked, body_pos, **response_kw)\u001b[0m\n\u001b[0;32m    <a href='file:///c%3A/Users/steph/AppData/Local/Programs/Python/Python310/lib/site-packages/urllib3/connectionpool.py?line=777'>778</a>\u001b[0m \u001b[39mif\u001b[39;00m \u001b[39mnot\u001b[39;00m conn:\n\u001b[0;32m    <a href='file:///c%3A/Users/steph/AppData/Local/Programs/Python/Python310/lib/site-packages/urllib3/connectionpool.py?line=778'>779</a>\u001b[0m     \u001b[39m# Try again\u001b[39;00m\n\u001b[0;32m    <a href='file:///c%3A/Users/steph/AppData/Local/Programs/Python/Python310/lib/site-packages/urllib3/connectionpool.py?line=779'>780</a>\u001b[0m     log\u001b[39m.\u001b[39mwarning(\n\u001b[0;32m    <a href='file:///c%3A/Users/steph/AppData/Local/Programs/Python/Python310/lib/site-packages/urllib3/connectionpool.py?line=780'>781</a>\u001b[0m         \u001b[39m\"\u001b[39m\u001b[39mRetrying (\u001b[39m\u001b[39m%r\u001b[39;00m\u001b[39m) after connection broken by \u001b[39m\u001b[39m'\u001b[39m\u001b[39m%r\u001b[39;00m\u001b[39m'\u001b[39m\u001b[39m: \u001b[39m\u001b[39m%s\u001b[39;00m\u001b[39m\"\u001b[39m, retries, err, url\n\u001b[0;32m    <a href='file:///c%3A/Users/steph/AppData/Local/Programs/Python/Python310/lib/site-packages/urllib3/connectionpool.py?line=781'>782</a>\u001b[0m     )\n\u001b[1;32m--> <a href='file:///c%3A/Users/steph/AppData/Local/Programs/Python/Python310/lib/site-packages/urllib3/connectionpool.py?line=782'>783</a>\u001b[0m     \u001b[39mreturn\u001b[39;00m \u001b[39mself\u001b[39m\u001b[39m.\u001b[39murlopen(\n\u001b[0;32m    <a href='file:///c%3A/Users/steph/AppData/Local/Programs/Python/Python310/lib/site-packages/urllib3/connectionpool.py?line=783'>784</a>\u001b[0m         method,\n\u001b[0;32m    <a href='file:///c%3A/Users/steph/AppData/Local/Programs/Python/Python310/lib/site-packages/urllib3/connectionpool.py?line=784'>785</a>\u001b[0m         url,\n\u001b[0;32m    <a href='file:///c%3A/Users/steph/AppData/Local/Programs/Python/Python310/lib/site-packages/urllib3/connectionpool.py?line=785'>786</a>\u001b[0m         body,\n\u001b[0;32m    <a href='file:///c%3A/Users/steph/AppData/Local/Programs/Python/Python310/lib/site-packages/urllib3/connectionpool.py?line=786'>787</a>\u001b[0m         headers,\n\u001b[0;32m    <a href='file:///c%3A/Users/steph/AppData/Local/Programs/Python/Python310/lib/site-packages/urllib3/connectionpool.py?line=787'>788</a>\u001b[0m         retries,\n\u001b[0;32m    <a href='file:///c%3A/Users/steph/AppData/Local/Programs/Python/Python310/lib/site-packages/urllib3/connectionpool.py?line=788'>789</a>\u001b[0m         redirect,\n\u001b[0;32m    <a href='file:///c%3A/Users/steph/AppData/Local/Programs/Python/Python310/lib/site-packages/urllib3/connectionpool.py?line=789'>790</a>\u001b[0m         assert_same_host,\n\u001b[0;32m    <a href='file:///c%3A/Users/steph/AppData/Local/Programs/Python/Python310/lib/site-packages/urllib3/connectionpool.py?line=790'>791</a>\u001b[0m         timeout\u001b[39m=\u001b[39mtimeout,\n\u001b[0;32m    <a href='file:///c%3A/Users/steph/AppData/Local/Programs/Python/Python310/lib/site-packages/urllib3/connectionpool.py?line=791'>792</a>\u001b[0m         pool_timeout\u001b[39m=\u001b[39mpool_timeout,\n\u001b[0;32m    <a href='file:///c%3A/Users/steph/AppData/Local/Programs/Python/Python310/lib/site-packages/urllib3/connectionpool.py?line=792'>793</a>\u001b[0m         release_conn\u001b[39m=\u001b[39mrelease_conn,\n\u001b[0;32m    <a href='file:///c%3A/Users/steph/AppData/Local/Programs/Python/Python310/lib/site-packages/urllib3/connectionpool.py?line=793'>794</a>\u001b[0m         chunked\u001b[39m=\u001b[39mchunked,\n\u001b[0;32m    <a href='file:///c%3A/Users/steph/AppData/Local/Programs/Python/Python310/lib/site-packages/urllib3/connectionpool.py?line=794'>795</a>\u001b[0m         body_pos\u001b[39m=\u001b[39mbody_pos,\n\u001b[0;32m    <a href='file:///c%3A/Users/steph/AppData/Local/Programs/Python/Python310/lib/site-packages/urllib3/connectionpool.py?line=795'>796</a>\u001b[0m         \u001b[39m*\u001b[39m\u001b[39m*\u001b[39mresponse_kw\n\u001b[0;32m    <a href='file:///c%3A/Users/steph/AppData/Local/Programs/Python/Python310/lib/site-packages/urllib3/connectionpool.py?line=796'>797</a>\u001b[0m     )\n\u001b[0;32m    <a href='file:///c%3A/Users/steph/AppData/Local/Programs/Python/Python310/lib/site-packages/urllib3/connectionpool.py?line=798'>799</a>\u001b[0m \u001b[39m# Handle redirect?\u001b[39;00m\n\u001b[0;32m    <a href='file:///c%3A/Users/steph/AppData/Local/Programs/Python/Python310/lib/site-packages/urllib3/connectionpool.py?line=799'>800</a>\u001b[0m redirect_location \u001b[39m=\u001b[39m redirect \u001b[39mand\u001b[39;00m response\u001b[39m.\u001b[39mget_redirect_location()\n",
      "File \u001b[1;32m~\\AppData\\Local\\Programs\\Python\\Python310\\lib\\site-packages\\urllib3\\connectionpool.py:755\u001b[0m, in \u001b[0;36mHTTPConnectionPool.urlopen\u001b[1;34m(self, method, url, body, headers, retries, redirect, assert_same_host, timeout, pool_timeout, release_conn, chunked, body_pos, **response_kw)\u001b[0m\n\u001b[0;32m    <a href='file:///c%3A/Users/steph/AppData/Local/Programs/Python/Python310/lib/site-packages/urllib3/connectionpool.py?line=751'>752</a>\u001b[0m \u001b[39melif\u001b[39;00m \u001b[39misinstance\u001b[39m(e, (SocketError, HTTPException)):\n\u001b[0;32m    <a href='file:///c%3A/Users/steph/AppData/Local/Programs/Python/Python310/lib/site-packages/urllib3/connectionpool.py?line=752'>753</a>\u001b[0m     e \u001b[39m=\u001b[39m ProtocolError(\u001b[39m\"\u001b[39m\u001b[39mConnection aborted.\u001b[39m\u001b[39m\"\u001b[39m, e)\n\u001b[1;32m--> <a href='file:///c%3A/Users/steph/AppData/Local/Programs/Python/Python310/lib/site-packages/urllib3/connectionpool.py?line=754'>755</a>\u001b[0m retries \u001b[39m=\u001b[39m retries\u001b[39m.\u001b[39;49mincrement(\n\u001b[0;32m    <a href='file:///c%3A/Users/steph/AppData/Local/Programs/Python/Python310/lib/site-packages/urllib3/connectionpool.py?line=755'>756</a>\u001b[0m     method, url, error\u001b[39m=\u001b[39;49me, _pool\u001b[39m=\u001b[39;49m\u001b[39mself\u001b[39;49m, _stacktrace\u001b[39m=\u001b[39;49msys\u001b[39m.\u001b[39;49mexc_info()[\u001b[39m2\u001b[39;49m]\n\u001b[0;32m    <a href='file:///c%3A/Users/steph/AppData/Local/Programs/Python/Python310/lib/site-packages/urllib3/connectionpool.py?line=756'>757</a>\u001b[0m )\n\u001b[0;32m    <a href='file:///c%3A/Users/steph/AppData/Local/Programs/Python/Python310/lib/site-packages/urllib3/connectionpool.py?line=757'>758</a>\u001b[0m retries\u001b[39m.\u001b[39msleep()\n\u001b[0;32m    <a href='file:///c%3A/Users/steph/AppData/Local/Programs/Python/Python310/lib/site-packages/urllib3/connectionpool.py?line=759'>760</a>\u001b[0m \u001b[39m# Keep track of the error for the retry warning.\u001b[39;00m\n",
      "File \u001b[1;32m~\\AppData\\Local\\Programs\\Python\\Python310\\lib\\site-packages\\urllib3\\util\\retry.py:574\u001b[0m, in \u001b[0;36mRetry.increment\u001b[1;34m(self, method, url, response, error, _pool, _stacktrace)\u001b[0m\n\u001b[0;32m    <a href='file:///c%3A/Users/steph/AppData/Local/Programs/Python/Python310/lib/site-packages/urllib3/util/retry.py?line=562'>563</a>\u001b[0m new_retry \u001b[39m=\u001b[39m \u001b[39mself\u001b[39m\u001b[39m.\u001b[39mnew(\n\u001b[0;32m    <a href='file:///c%3A/Users/steph/AppData/Local/Programs/Python/Python310/lib/site-packages/urllib3/util/retry.py?line=563'>564</a>\u001b[0m     total\u001b[39m=\u001b[39mtotal,\n\u001b[0;32m    <a href='file:///c%3A/Users/steph/AppData/Local/Programs/Python/Python310/lib/site-packages/urllib3/util/retry.py?line=564'>565</a>\u001b[0m     connect\u001b[39m=\u001b[39mconnect,\n\u001b[1;32m   (...)\u001b[0m\n\u001b[0;32m    <a href='file:///c%3A/Users/steph/AppData/Local/Programs/Python/Python310/lib/site-packages/urllib3/util/retry.py?line=569'>570</a>\u001b[0m     history\u001b[39m=\u001b[39mhistory,\n\u001b[0;32m    <a href='file:///c%3A/Users/steph/AppData/Local/Programs/Python/Python310/lib/site-packages/urllib3/util/retry.py?line=570'>571</a>\u001b[0m )\n\u001b[0;32m    <a href='file:///c%3A/Users/steph/AppData/Local/Programs/Python/Python310/lib/site-packages/urllib3/util/retry.py?line=572'>573</a>\u001b[0m \u001b[39mif\u001b[39;00m new_retry\u001b[39m.\u001b[39mis_exhausted():\n\u001b[1;32m--> <a href='file:///c%3A/Users/steph/AppData/Local/Programs/Python/Python310/lib/site-packages/urllib3/util/retry.py?line=573'>574</a>\u001b[0m     \u001b[39mraise\u001b[39;00m MaxRetryError(_pool, url, error \u001b[39mor\u001b[39;00m ResponseError(cause))\n\u001b[0;32m    <a href='file:///c%3A/Users/steph/AppData/Local/Programs/Python/Python310/lib/site-packages/urllib3/util/retry.py?line=575'>576</a>\u001b[0m log\u001b[39m.\u001b[39mdebug(\u001b[39m\"\u001b[39m\u001b[39mIncremented Retry for (url=\u001b[39m\u001b[39m'\u001b[39m\u001b[39m%s\u001b[39;00m\u001b[39m'\u001b[39m\u001b[39m): \u001b[39m\u001b[39m%r\u001b[39;00m\u001b[39m\"\u001b[39m, url, new_retry)\n\u001b[0;32m    <a href='file:///c%3A/Users/steph/AppData/Local/Programs/Python/Python310/lib/site-packages/urllib3/util/retry.py?line=577'>578</a>\u001b[0m \u001b[39mreturn\u001b[39;00m new_retry\n",
      "\u001b[1;31mMaxRetryError\u001b[0m: HTTPConnectionPool(host='localhost', port=62314): Max retries exceeded with url: /session/f40dd0c3593011005ace745ab9bf8db9/elements (Caused by NewConnectionError('<urllib3.connection.HTTPConnection object at 0x000001CD822BA9E0>: Failed to establish a new connection: [WinError 10061] No connection could be made because the target machine actively refused it'))"
     ]
    }
   ],
   "source": [
    "# 3. Write code to retrieve the image urls and titles for each hemisphere.\n",
    "for x in range(0,4):\n",
    "    img_link_loc = browser.find_by_tag('h3')[x]\n",
    "    img_link_loc.click()\n",
    "\n",
    "    # Parse the resulting html with soup\n",
    "    html = browser.html\n",
    "    img_soup = soup(html, 'html.parser')\n",
    "\n",
    "    img_url_rel = img_soup.find('img', class_='wide-image').get('src')\n",
    "    # Use the base URL to create an absolute URL\n",
    "    img_url = f'https://astrogeology.usgs.gov/{img_url_rel}'\n",
    "    img_title = img_soup.find('h2', class_='title').text\n",
    "    \n",
    "    hemisphere_image_urls.append({'img': img_url_rel, 'title': img_title})\n",
    "    \n",
    "    browser.back()"
   ]
  },
  {
   "cell_type": "code",
   "execution_count": 45,
   "metadata": {},
   "outputs": [
    {
     "data": {
      "text/plain": [
       "[{'img': '/cache/images/f5e372a36edfa389625da6d0cc25d905_cerberus_enhanced.tif_full.jpg',\n",
       "  'title': 'Cerberus Hemisphere Enhanced'},\n",
       " {'img': '/cache/images/3778f7b43bbbc89d6e3cfabb3613ba93_schiaparelli_enhanced.tif_full.jpg',\n",
       "  'title': 'Schiaparelli Hemisphere Enhanced'},\n",
       " {'img': '/cache/images/555e6403a6ddd7ba16ddb0e471cadcf7_syrtis_major_enhanced.tif_full.jpg',\n",
       "  'title': 'Syrtis Major Hemisphere Enhanced'}]"
      ]
     },
     "execution_count": 45,
     "metadata": {},
     "output_type": "execute_result"
    }
   ],
   "source": [
    "# 4. Print the list that holds the dictionary of each image url and title.\n",
    "hemisphere_image_urls\n"
   ]
  },
  {
   "cell_type": "code",
   "execution_count": 46,
   "metadata": {},
   "outputs": [],
   "source": [
    "# 5. Quit the browser\n",
    "browser.quit()"
   ]
  },
  {
   "cell_type": "code",
   "execution_count": null,
   "metadata": {},
   "outputs": [],
   "source": []
  }
 ],
 "metadata": {
  "interpreter": {
   "hash": "26334c819c5a4574071d2e808df966367b78dcf6233adf7b6d463daee31dd98a"
  },
  "kernelspec": {
   "display_name": "Python 3.7.11 ('PythonData')",
   "language": "python",
   "name": "python3"
  },
  "language_info": {
   "codemirror_mode": {
    "name": "ipython",
    "version": 3
   },
   "file_extension": ".py",
   "mimetype": "text/x-python",
   "name": "python",
   "nbconvert_exporter": "python",
   "pygments_lexer": "ipython3",
   "version": "3.10.1"
  },
  "orig_nbformat": 4
 },
 "nbformat": 4,
 "nbformat_minor": 2
}
